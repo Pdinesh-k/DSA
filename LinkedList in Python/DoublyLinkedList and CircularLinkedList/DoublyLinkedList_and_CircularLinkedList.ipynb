{
  "nbformat": 4,
  "nbformat_minor": 0,
  "metadata": {
    "colab": {
      "provenance": []
    },
    "kernelspec": {
      "name": "python3",
      "display_name": "Python 3"
    },
    "language_info": {
      "name": "python"
    }
  },
  "cells": [
    {
      "cell_type": "markdown",
      "source": [
        "#DoublyLinkedList"
      ],
      "metadata": {
        "id": "HsE0O7bFuumG"
      }
    },
    {
      "cell_type": "markdown",
      "source": [
        "Basic DoublyLinkedList"
      ],
      "metadata": {
        "id": "NR9O2UYXFjzT"
      }
    },
    {
      "cell_type": "code",
      "execution_count": 16,
      "metadata": {
        "colab": {
          "base_uri": "https://localhost:8080/"
        },
        "id": "c9j4rdK2uiZQ",
        "outputId": "cdb7364b-a2d0-4399-9add-f3d0f6f015c3"
      },
      "outputs": [
        {
          "output_type": "stream",
          "name": "stdout",
          "text": [
            "Front traversal!\n",
            "1 -> 2 -> 3 -> END\n",
            "\n",
            "Back traversal!\n",
            "3 -> 2 -> 1 -> START\n"
          ]
        }
      ],
      "source": [
        "class node:\n",
        "  def __init__(self,data):\n",
        "    self.prev = None\n",
        "    self.data = data\n",
        "    self.next = None\n",
        "\n",
        "class LinkedList:\n",
        "  def __init__(self):\n",
        "    self.head = None\n",
        "\n",
        "  def insert(self,newNode):\n",
        "    if self.head == None:\n",
        "      self.head = newNode\n",
        "    else:\n",
        "      current = self.head\n",
        "      while(current.next != None):\n",
        "        current = current.next\n",
        "      current.next = newNode\n",
        "      newNode.prev = current\n",
        "\n",
        "  def printList(self):\n",
        "    if self.head == None:\n",
        "      print(f\"There is no element in the list !\")\n",
        "    else:\n",
        "      print(f\"Front traversal!\")\n",
        "      current = self.head\n",
        "      tail = self.head\n",
        "      while(current != None):\n",
        "        print(f\"{current.data} -> \",end=\"\")\n",
        "        current = current.next\n",
        "      print(\"END\")\n",
        "      print(f\"\\nBack traversal!\")\n",
        "\n",
        "      while(tail.next != None):\n",
        "        tail = tail.next\n",
        "      while(tail!=None):\n",
        "        print(f\"{tail.data} -> \",end=\"\")\n",
        "        tail = tail.prev\n",
        "      print(f\"START\")\n",
        "\n",
        "\n",
        "linkedlist = LinkedList()\n",
        "\n",
        "firstnode = node(\"1\")\n",
        "linkedlist.insert(firstnode)\n",
        "\n",
        "secondnode = node(\"2\")\n",
        "linkedlist.insert(secondnode)\n",
        "\n",
        "thirdnode = node(\"3\")\n",
        "linkedlist.insert(thirdnode)\n",
        "\n",
        "linkedlist.printList()"
      ]
    },
    {
      "cell_type": "markdown",
      "source": [
        "Insertion at middle in DoublyLinkedList"
      ],
      "metadata": {
        "id": "XhB6jrGK3Mxh"
      }
    },
    {
      "cell_type": "code",
      "source": [
        "class Node:\n",
        "  def __init__(self,data):\n",
        "    self.prev = None\n",
        "    self.data = data\n",
        "    self.next = None\n",
        "\n",
        "class LinkedList:\n",
        "\n",
        "  def __init__(self):\n",
        "    self.head = None\n",
        "\n",
        "  def insert_at_end(self,newNode):\n",
        "    if self.head == None:\n",
        "      self.head = newNode\n",
        "    else:\n",
        "      temp = self.head\n",
        "      while(temp.next != None):\n",
        "        temp = temp.next\n",
        "      temp.next = newNode\n",
        "      newNode.prev = temp\n",
        "\n",
        "  def insert_at_middle(self,newNode):\n",
        "    if self.head == None:\n",
        "      print(f\"There is no element in the list !\")\n",
        "    else:\n",
        "      slow = self.head\n",
        "      fast = self.head\n",
        "\n",
        "      while(fast.next != None and fast.next.next != None):\n",
        "        slow = slow.next\n",
        "        fast = fast.next.next\n",
        "      newNode.next = slow.next\n",
        "      newNode.prev = slow\n",
        "      slow.next = newNode\n",
        "\n",
        "  def print(self):\n",
        "    temp = self.head\n",
        "    print(f\"\\nFront traversal : \")\n",
        "\n",
        "    while(temp != None):\n",
        "      print(f\"{temp.data} -> \",end=\"\")\n",
        "      temp = temp.next\n",
        "\n",
        "    tail = self.head\n",
        "    while(tail.next != None):\n",
        "      tail = tail.next\n",
        "\n",
        "    print(f\"\\nBack traversal : \")\n",
        "\n",
        "    while(tail != None):\n",
        "      print(f\"{tail.data} -> \",end=\"\")\n",
        "      tail = tail.prev\n",
        "\n",
        "\n",
        "linkedlist = LinkedList()\n",
        "\n",
        "firstnode = Node(\"1\")\n",
        "linkedlist.insert_at_end(firstnode)\n",
        "\n",
        "secondnode = Node(\"2\")\n",
        "linkedlist.insert_at_end(secondnode)\n",
        "\n",
        "fourthnode = Node(\"4\")\n",
        "linkedlist.insert_at_end(fourthnode)\n",
        "\n",
        "fifthnode = Node(\"5\")\n",
        "linkedlist.insert_at_end(fifthnode)\n",
        "\n",
        "linkedlist.print()\n",
        "\n",
        "thirdnode = Node(\"3\")\n",
        "linkedlist.insert_at_middle(thirdnode)\n",
        "\n",
        "print(f\"\\n\\nAfter inserting at middle : \")\n",
        "\n",
        "linkedlist.print()\n"
      ],
      "metadata": {
        "colab": {
          "base_uri": "https://localhost:8080/"
        },
        "id": "XCvI52_zxTEH",
        "outputId": "ce53adc2-f7f3-4bd9-cbc9-ebf3f5d4e192"
      },
      "execution_count": 42,
      "outputs": [
        {
          "output_type": "stream",
          "name": "stdout",
          "text": [
            "\n",
            "Front traversal : \n",
            "1 -> 2 -> 4 -> 5 -> \n",
            "Back traversal : \n",
            "5 -> 4 -> 2 -> 1 -> \n",
            "\n",
            "After inserting at middle : \n",
            "\n",
            "Front traversal : \n",
            "1 -> 2 -> 3 -> 4 -> 5 -> \n",
            "Back traversal : \n",
            "5 -> 4 -> 2 -> 1 -> "
          ]
        }
      ]
    },
    {
      "cell_type": "markdown",
      "source": [
        "Deletion at middle in DoublyLinkedList"
      ],
      "metadata": {
        "id": "veNty3etA0Uj"
      }
    },
    {
      "cell_type": "code",
      "source": [
        "class Node:\n",
        "  def __init__(self,data):\n",
        "    self.prev = None\n",
        "    self.data = data\n",
        "    self.next = None\n",
        "\n",
        "class LinkedList:\n",
        "\n",
        "  def __init__(self):\n",
        "    self.head = None\n",
        "\n",
        "  def insert_at_end(self,newNode):\n",
        "    if self.head == None:\n",
        "      self.head = newNode\n",
        "    else:\n",
        "      temp = self.head\n",
        "      while(temp.next != None):\n",
        "        temp = temp.next\n",
        "      temp.next = newNode\n",
        "      newNode.prev = temp\n",
        "\n",
        "  def delete_at_middle(self):\n",
        "    if self.head == None:\n",
        "      print(f\"There is no element in the list !\")\n",
        "    else:\n",
        "      slow = self.head\n",
        "      fast = self.head\n",
        "\n",
        "      while(fast.next != None and fast.next.next != None):\n",
        "        slow = slow.next\n",
        "        fast = fast.next.next\n",
        "      temp = slow.prev\n",
        "      temp.next = slow.next\n",
        "      slow.next.prev = temp\n",
        "\n",
        "  def print(self):\n",
        "    temp = self.head\n",
        "    print(f\"\\nFront traversal : \")\n",
        "\n",
        "    while(temp != None):\n",
        "      print(f\"{temp.data} -> \",end=\"\")\n",
        "      temp = temp.next\n",
        "\n",
        "    tail = self.head\n",
        "    while(tail.next != None):\n",
        "      tail = tail.next\n",
        "\n",
        "    print(f\"\\nBack traversal : \")\n",
        "\n",
        "    while(tail != None):\n",
        "      print(f\"{tail.data} -> \",end=\"\")\n",
        "      tail = tail.prev\n",
        "\n",
        "\n",
        "linkedlist = LinkedList()\n",
        "\n",
        "firstnode = Node(\"1\")\n",
        "linkedlist.insert_at_end(firstnode)\n",
        "\n",
        "secondnode = Node(\"2\")\n",
        "linkedlist.insert_at_end(secondnode)\n",
        "\n",
        "thirdnode = Node(\"3\")\n",
        "linkedlist.insert_at_end(thirdnode)\n",
        "\n",
        "fourthnode = Node(\"4\")\n",
        "linkedlist.insert_at_end(fourthnode)\n",
        "\n",
        "fifthnode = Node(\"5\")\n",
        "linkedlist.insert_at_end(fifthnode)\n",
        "\n",
        "linkedlist.print()\n",
        "\n",
        "print(f\"\\n\\nAfter Deleting at middle : \")\n",
        "\n",
        "linkedlist.delete_at_middle()\n",
        "\n",
        "linkedlist.print()\n"
      ],
      "metadata": {
        "colab": {
          "base_uri": "https://localhost:8080/"
        },
        "id": "oKf3utn399Pw",
        "outputId": "a185c2a8-8223-4190-e254-518f9f6e6fad"
      },
      "execution_count": 40,
      "outputs": [
        {
          "output_type": "stream",
          "name": "stdout",
          "text": [
            "\n",
            "Front traversal : \n",
            "1 -> 2 -> 3 -> 4 -> 5 -> \n",
            "Back traversal : \n",
            "5 -> 4 -> 3 -> 2 -> 1 -> \n",
            "\n",
            "After Deleting at middle : \n",
            "\n",
            "Front traversal : \n",
            "1 -> 2 -> 4 -> 5 -> \n",
            "Back traversal : \n",
            "5 -> 4 -> 2 -> 1 -> "
          ]
        }
      ]
    },
    {
      "cell_type": "markdown",
      "source": [
        "Deletion at end in DoublyLinkedList :"
      ],
      "metadata": {
        "id": "TH_LhWxFDOTC"
      }
    },
    {
      "cell_type": "code",
      "source": [
        "class Node:\n",
        "  def __init__(self,data):\n",
        "    self.prev = None\n",
        "    self.data = data\n",
        "    self.next = None\n",
        "\n",
        "class LinkedList:\n",
        "\n",
        "  def __init__(self):\n",
        "    self.head = None\n",
        "\n",
        "  def insert_at_end(self,newNode):\n",
        "    if self.head == None:\n",
        "      self.head = newNode\n",
        "    else:\n",
        "      temp = self.head\n",
        "      while(temp.next != None):\n",
        "        temp = temp.next\n",
        "      temp.next = newNode\n",
        "      newNode.prev = temp\n",
        "\n",
        "  def delete_at_end(self):\n",
        "    if self.head == None:\n",
        "      print(f\"There is no element in the list !\")\n",
        "    else:\n",
        "      temp = self.head\n",
        "      while(temp.next != None):\n",
        "        temp = temp.next\n",
        "      temp_prev = temp.prev\n",
        "      temp_prev.next = None\n",
        "\n",
        "  def print(self):\n",
        "    temp = self.head\n",
        "    print(f\"\\nFront traversal : \")\n",
        "\n",
        "    while(temp != None):\n",
        "      print(f\"{temp.data} -> \",end=\"\")\n",
        "      temp = temp.next\n",
        "\n",
        "    tail = self.head\n",
        "    while(tail.next != None):\n",
        "      tail = tail.next\n",
        "\n",
        "    print(f\"\\nBack traversal : \")\n",
        "\n",
        "    while(tail != None):\n",
        "      print(f\"{tail.data} -> \",end=\"\")\n",
        "      tail = tail.prev\n",
        "\n",
        "\n",
        "linkedlist = LinkedList()\n",
        "\n",
        "firstnode = Node(\"1\")\n",
        "linkedlist.insert_at_end(firstnode)\n",
        "\n",
        "secondnode = Node(\"2\")\n",
        "linkedlist.insert_at_end(secondnode)\n",
        "\n",
        "thirdnode = Node(\"3\")\n",
        "linkedlist.insert_at_end(thirdnode)\n",
        "\n",
        "fourthnode = Node(\"4\")\n",
        "linkedlist.insert_at_end(fourthnode)\n",
        "\n",
        "fifthnode = Node(\"5\")\n",
        "linkedlist.insert_at_end(fifthnode)\n",
        "\n",
        "linkedlist.print()\n",
        "\n",
        "print(f\"\\n\\nAfter Deleting at end : \")\n",
        "\n",
        "linkedlist.delete_at_end()\n",
        "\n",
        "linkedlist.print()\n"
      ],
      "metadata": {
        "colab": {
          "base_uri": "https://localhost:8080/"
        },
        "id": "UjOuf2xfEjRq",
        "outputId": "ac3e1f4c-5410-4c14-8d52-4783f39d6a40"
      },
      "execution_count": 45,
      "outputs": [
        {
          "output_type": "stream",
          "name": "stdout",
          "text": [
            "\n",
            "Front traversal : \n",
            "1 -> 2 -> 3 -> 4 -> 5 -> \n",
            "Back traversal : \n",
            "5 -> 4 -> 3 -> 2 -> 1 -> \n",
            "\n",
            "After Deleting at end : \n",
            "\n",
            "Front traversal : \n",
            "1 -> 2 -> 3 -> 4 -> \n",
            "Back traversal : \n",
            "4 -> 3 -> 2 -> 1 -> "
          ]
        }
      ]
    },
    {
      "cell_type": "markdown",
      "source": [
        "#CircularLinkedList"
      ],
      "metadata": {
        "id": "CS4fQx6BFI3L"
      }
    },
    {
      "cell_type": "code",
      "source": [
        "class node:\n",
        "  def __init__(self,data):\n",
        "    self.prev = None\n",
        "    self.data = data\n",
        "    self.next = None\n",
        "\n",
        "class LinkedList:\n",
        "  def __init__(self):\n",
        "    self.head = None\n",
        "    self.tail = None\n",
        "\n",
        "  def insert(self,newNode):\n",
        "    if self.head == None:\n",
        "      self.head = newNode\n",
        "      self.tail = newNode\n",
        "    else:\n",
        "      self.tail.next = newNode\n",
        "      newNode.prev = self.tail\n",
        "      newNode.next = self.head\n",
        "      self.head.prev = newNode\n",
        "      self.tail = newNode\n",
        "\n",
        "  def printList(self):\n",
        "    if self.head == None:\n",
        "      print(f\"There is no element in the list !\")\n",
        "    else:\n",
        "      print(f\"Front traversal!\")\n",
        "      current = self.head\n",
        "      while(True):\n",
        "        print(f\"{current.data} -> \",end=\"\")\n",
        "        current = current.next\n",
        "        if current == self.head:\n",
        "          break\n",
        "      print(f\"\\nBack traversal!\")\n",
        "\n",
        "      last = self.tail\n",
        "      while(True):\n",
        "        print(f\"{last.data} -> \",end=\"\")\n",
        "        last = last.prev\n",
        "        if last == self.tail:\n",
        "          break\n",
        "\n",
        "\n",
        "linkedlist = LinkedList()\n",
        "\n",
        "firstnode = node(\"1\")\n",
        "linkedlist.insert(firstnode)\n",
        "\n",
        "secondnode = node(\"2\")\n",
        "linkedlist.insert(secondnode)\n",
        "\n",
        "thirdnode = node(\"3\")\n",
        "linkedlist.insert(thirdnode)\n",
        "\n",
        "fourthnode = node(\"4\")\n",
        "linkedlist.insert(fourthnode)\n",
        "\n",
        "linkedlist.printList()"
      ],
      "metadata": {
        "colab": {
          "base_uri": "https://localhost:8080/"
        },
        "id": "HfZ0XT8TFnkp",
        "outputId": "42065866-addf-4707-e74a-321eebc9bcc7"
      },
      "execution_count": 79,
      "outputs": [
        {
          "output_type": "stream",
          "name": "stdout",
          "text": [
            "Front traversal!\n",
            "1 -> 2 -> 3 -> 4 -> \n",
            "Back traversal!\n",
            "4 -> 3 -> 2 -> 1 -> "
          ]
        }
      ]
    },
    {
      "cell_type": "code",
      "source": [],
      "metadata": {
        "id": "ALb1o6-GHge_"
      },
      "execution_count": null,
      "outputs": []
    }
  ]
}