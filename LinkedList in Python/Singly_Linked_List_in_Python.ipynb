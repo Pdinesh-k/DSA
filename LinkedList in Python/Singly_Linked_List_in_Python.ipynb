{
  "nbformat": 4,
  "nbformat_minor": 0,
  "metadata": {
    "colab": {
      "provenance": []
    },
    "kernelspec": {
      "name": "python3",
      "display_name": "Python 3"
    },
    "language_info": {
      "name": "python"
    }
  },
  "cells": [
    {
      "cell_type": "markdown",
      "source": [
        "#Basic Singly Linked list"
      ],
      "metadata": {
        "id": "8ebhzgjnvKiD"
      }
    },
    {
      "cell_type": "code",
      "source": [
        "class Node:\n",
        "  def __init__(self,data):\n",
        "    self.data = data\n",
        "    self.next = None\n",
        "\n",
        "class LinkedList:\n",
        "  def __init__(self):\n",
        "    self.head = None\n",
        "\n",
        "  def insert(self,newNode):\n",
        "    if self.head == None:\n",
        "      self.head = newNode\n",
        "    else:\n",
        "      currentNode = self.head\n",
        "      while True:\n",
        "        if currentNode.next == None:\n",
        "          break\n",
        "        currentNode = currentNode.next\n",
        "      currentNode.next = newNode\n",
        "\n",
        "  def printlist(self):\n",
        "\n",
        "    if self.head == None:\n",
        "      print(\"List is empty\")\n",
        "      return\n",
        "    currentNode = self.head\n",
        "    while(True):\n",
        "      if currentNode == None:\n",
        "        break\n",
        "      else:\n",
        "        print(f'{currentNode.data} -> ',end = \"\")\n",
        "        currentNode = currentNode.next\n",
        "\n",
        "linkedlist = LinkedList()\n",
        "\n",
        "firstNode = Node(\"Snow\")\n",
        "linkedlist.insert(firstNode)\n",
        "\n",
        "secondNode = Node(\"Annie\")\n",
        "linkedlist.insert(secondNode)\n",
        "\n",
        "thirdNode = Node(\"Oreo\")\n",
        "linkedlist.insert(thirdNode)\n",
        "\n",
        "fourthNode = Node(\"Ricku\")\n",
        "linkedlist.insert(fourthNode)\n",
        "\n",
        "linkedlist.printlist()"
      ],
      "metadata": {
        "colab": {
          "base_uri": "https://localhost:8080/"
        },
        "id": "9KXN5Ewcx6F5",
        "outputId": "7d54910a-d345-492f-fa04-574e4e010f64"
      },
      "execution_count": 15,
      "outputs": [
        {
          "output_type": "stream",
          "name": "stdout",
          "text": [
            "Snow -> Annie -> Oreo -> Ricku -> "
          ]
        }
      ]
    },
    {
      "cell_type": "markdown",
      "source": [
        "#Insert new Node as the Head Node"
      ],
      "metadata": {
        "id": "f2OPWuOpzwLI"
      }
    },
    {
      "cell_type": "code",
      "source": [
        "class Node:\n",
        "  def __init__(self,data):\n",
        "    self.data = data\n",
        "    self.next = None\n",
        "\n",
        "class LinkedList:\n",
        "  def __init__(self):\n",
        "    self.head = None\n",
        "\n",
        "  def insert(self,newNode):\n",
        "    if self.head == None:\n",
        "      self.head = newNode\n",
        "    else:\n",
        "      previousfirstNode = self.head\n",
        "      self.head = newNode\n",
        "      newNode.next = previousfirstNode\n",
        "\n",
        "  def printList(self):\n",
        "    if self.head == None:\n",
        "      print(\"List is empty\")\n",
        "    else:\n",
        "      currentNode = self.head\n",
        "      while(True):\n",
        "        if(currentNode == None):\n",
        "          break\n",
        "        print(f\"{currentNode.data} -> \", end = \"\")\n",
        "        currentNode = currentNode.next\n",
        "\n",
        "linkedlist = LinkedList()\n",
        "\n",
        "firstNode = Node(\"Oreo\")\n",
        "linkedlist.insert(firstNode)\n",
        "\n",
        "secondNode = Node(\"Ricku\")\n",
        "linkedlist.insert(secondNode)\n",
        "\n",
        "thirdNode = Node(\"Annie\")\n",
        "linkedlist.insert(thirdNode)\n",
        "\n",
        "fourthNode = Node(\"Snow\")\n",
        "linkedlist.insert(fourthNode)\n",
        "\n",
        "linkedlist.printList()"
      ],
      "metadata": {
        "colab": {
          "base_uri": "https://localhost:8080/"
        },
        "id": "tRZchO5S3H6m",
        "outputId": "c98feaa3-9978-442c-efa1-ed3c99653773"
      },
      "execution_count": 25,
      "outputs": [
        {
          "output_type": "stream",
          "name": "stdout",
          "text": [
            "Snow -> Annie -> Ricku -> Oreo -> "
          ]
        }
      ]
    },
    {
      "cell_type": "markdown",
      "source": [
        "#Insert newNode at the middle :"
      ],
      "metadata": {
        "id": "SF7S-7ZP_UiR"
      }
    },
    {
      "cell_type": "code",
      "source": [
        "class Node:\n",
        "  def __init__(self,data):\n",
        "    self.data = data\n",
        "    self.next = None\n",
        "\n",
        "class LinkedList:\n",
        "  def __init__(self):\n",
        "    self.head = None\n",
        "\n",
        "  def insert(self,newNode):\n",
        "    count_node = 0\n",
        "    middle_node = 0\n",
        "    if self.head is None:\n",
        "      self.head = newNode\n",
        "    else:\n",
        "      currentNode = self.head\n",
        "      while(currentNode.next != None):\n",
        "        currentNode = currentNode.next\n",
        "        count_node+=1\n",
        "      middle_node = count_node//2\n",
        "\n",
        "      currentNode = self.head\n",
        "      for i in range(middle_node):\n",
        "        currentNode = currentNode.next\n",
        "      if(currentNode.next == None):\n",
        "        currentNode.next = newNode\n",
        "      else:\n",
        "        afterMiddleNode = currentNode.next\n",
        "        currentNode.next = newNode\n",
        "        newNode.next = afterMiddleNode\n",
        "\n",
        "  def printList(self):\n",
        "    if self.head == None:\n",
        "      print(\"List is empty\")\n",
        "    else:\n",
        "      currentNode = self.head\n",
        "      while(currentNode != None):\n",
        "          print(f'{currentNode.data} -> ',end=\"\")\n",
        "          currentNode = currentNode.next\n",
        "\n",
        "linkedlist = LinkedList()\n",
        "\n",
        "firstNode = Node(\"Oreo\")\n",
        "linkedlist.insert(firstNode)\n",
        "\n",
        "secondNode = Node(\"Ricku\")\n",
        "linkedlist.insert(secondNode)\n",
        "\n",
        "thirdNode = Node(\"Annie\")\n",
        "linkedlist.insert(thirdNode)\n",
        "\n",
        "fourthNode = Node(\"Snow\")\n",
        "linkedlist.insert(fourthNode)\n",
        "\n",
        "linkedlist.printList()"
      ],
      "metadata": {
        "colab": {
          "base_uri": "https://localhost:8080/"
        },
        "id": "SSIbxQ0d6XNQ",
        "outputId": "cbe271b5-c338-4c7c-f915-84acc0c59cff"
      },
      "execution_count": 34,
      "outputs": [
        {
          "output_type": "stream",
          "name": "stdout",
          "text": [
            "Oreo -> Annie -> Snow -> Ricku -> "
          ]
        }
      ]
    },
    {
      "cell_type": "code",
      "source": [
        "class Node:\n",
        "  def __init__(self,data):\n",
        "    self.data = data\n",
        "    self.next = None\n",
        "\n",
        "class LinkedList:\n",
        "  def __init__(self):\n",
        "    self.head = None\n",
        "\n",
        "  def insert_at_middle(self,newNode):\n",
        "    if self.head == None:\n",
        "      self.head = newNode\n",
        "    else:\n",
        "      slow = self.head\n",
        "      fast = self.head\n",
        "\n",
        "      while(fast.next != None and fast.next.next != None):\n",
        "        slow = slow.next\n",
        "        fast = fast.next.next\n",
        "\n",
        "      newNode.next = slow.next\n",
        "      slow.next = newNode\n",
        "\n",
        "  def printList(self):\n",
        "    currentNode = self.head\n",
        "    while(currentNode != None):\n",
        "      print(f\"{currentNode.data} -> \",end=\"\")\n",
        "      currentNode = currentNode.next\n",
        "\n",
        "linkedlist = LinkedList()\n",
        "\n",
        "firstNode = Node(\"1\")\n",
        "linkedlist.insert_at_middle(firstNode)\n",
        "\n",
        "secondNode = Node(\"2\")\n",
        "linkedlist.insert_at_middle(secondNode)\n",
        "\n",
        "thirdNode = Node(\"3\")\n",
        "linkedlist.insert_at_middle(thirdNode)\n",
        "\n",
        "fourthNode = Node(\"4\")\n",
        "linkedlist.insert_at_middle(fourthNode)\n",
        "\n",
        "\n",
        "linkedlist.printList()"
      ],
      "metadata": {
        "colab": {
          "base_uri": "https://localhost:8080/"
        },
        "id": "h8YD-RK6Cu3l",
        "outputId": "b82e6476-9b0b-47da-da13-524e422a0a6d"
      },
      "execution_count": 38,
      "outputs": [
        {
          "output_type": "stream",
          "name": "stdout",
          "text": [
            "1 -> 3 -> 4 -> 2 -> "
          ]
        }
      ]
    },
    {
      "cell_type": "markdown",
      "source": [
        "#Delete at end"
      ],
      "metadata": {
        "id": "KCIfqbY4QcaD"
      }
    },
    {
      "cell_type": "code",
      "source": [
        "class Node:\n",
        "  def __init__(self,data):\n",
        "    self.data = data\n",
        "    self.next = None\n",
        "\n",
        "class LinkedList:\n",
        "  def __init__(self):\n",
        "    self.head = None\n",
        "\n",
        "  def insert_at_end(self,newNode):\n",
        "    if self.head == None:\n",
        "      self.head = newNode\n",
        "    else:\n",
        "      currentNode = self.head\n",
        "      while(currentNode.next != None):\n",
        "        currentNode = currentNode.next\n",
        "      currentNode.next = newNode\n",
        "\n",
        "  def delete_at_end(self):\n",
        "    if self.head == None:\n",
        "      print(f\"The list is empty mahnn !!\")\n",
        "    else:\n",
        "      currentNode = self.head\n",
        "      while(currentNode.next != None and currentNode.next.next != None):\n",
        "        currentNode = currentNode.next\n",
        "      currentNode.next = None\n",
        "\n",
        "  def printList(self):\n",
        "    if self.head == None:\n",
        "      print(f\"There is no element in the list\")\n",
        "      return\n",
        "    else:\n",
        "      currentNode = self.head\n",
        "      while(currentNode != None):\n",
        "        print(f\"{currentNode.data} -> \",end=\"\")\n",
        "        currentNode = currentNode.next\n",
        "\n",
        "linkedlist = LinkedList()\n",
        "\n",
        "firstNode = Node(\"1\")\n",
        "linkedlist.insert_at_end(firstNode)\n",
        "\n",
        "secondNode = Node(\"2\")\n",
        "linkedlist.insert_at_end(secondNode)\n",
        "\n",
        "thirdNode = Node(\"3\")\n",
        "linkedlist.insert_at_end(thirdNode)\n",
        "\n",
        "fourthNode = Node(\"4\")\n",
        "linkedlist.insert_at_end(fourthNode)\n",
        "\n",
        "linkedlist.delete_at_end()\n",
        "\n",
        "linkedlist.printList()"
      ],
      "metadata": {
        "colab": {
          "base_uri": "https://localhost:8080/"
        },
        "id": "_DR9IhphJdIT",
        "outputId": "cdab0a83-abb9-4dcf-ca06-63fff51c575f"
      },
      "execution_count": 4,
      "outputs": [
        {
          "output_type": "stream",
          "name": "stdout",
          "text": [
            "1 -> 2 -> 3 -> "
          ]
        }
      ]
    },
    {
      "cell_type": "markdown",
      "source": [
        "#Delete at Middle"
      ],
      "metadata": {
        "id": "lupc1YmFTfyk"
      }
    },
    {
      "cell_type": "code",
      "source": [
        "class Node:\n",
        "  def __init__(self,data):\n",
        "    self.data = data\n",
        "    self.next = None\n",
        "\n",
        "class LinkedList:\n",
        "  def __init__(self):\n",
        "    self.head = None\n",
        "\n",
        "  def insert_at_end(self,newNode):\n",
        "    if self.head == None:\n",
        "      self.head = newNode\n",
        "    else:\n",
        "      currentNode = self.head\n",
        "      while(currentNode.next != None):\n",
        "        currentNode = currentNode.next\n",
        "      currentNode.next = newNode\n",
        "\n",
        "  def delete_at_middle(self):\n",
        "    if self.head == None:\n",
        "      print(f\"The list is empty mahnn !!\")\n",
        "    else:\n",
        "      slow = self.head\n",
        "      fast = self.head\n",
        "      prev = None\n",
        "      while(fast.next != None and fast.next.next != None):\n",
        "        fast = fast.next.next\n",
        "        prev = slow\n",
        "        slow = slow.next\n",
        "      if prev != None:\n",
        "        prev.next = slow.next\n",
        "      else:\n",
        "        self.head = slow.next\n",
        "\n",
        "  def printList(self):\n",
        "    if self.head == None:\n",
        "      print(f\"There is no element in the list\")\n",
        "      return\n",
        "    else:\n",
        "      currentNode = self.head\n",
        "      while(currentNode != None):\n",
        "        print(f\"{currentNode.data} -> \",end=\"\")\n",
        "        currentNode = currentNode.next\n",
        "\n",
        "linkedlist = LinkedList()\n",
        "\n",
        "firstNode = Node(\"1\")\n",
        "linkedlist.insert_at_end(firstNode)\n",
        "\n",
        "secondNode = Node(\"2\")\n",
        "linkedlist.insert_at_end(secondNode)\n",
        "\n",
        "thirdNode = Node(\"3\")\n",
        "linkedlist.insert_at_end(thirdNode)\n",
        "\n",
        "fourthNode = Node(\"4\")\n",
        "linkedlist.insert_at_end(fourthNode)\n",
        "\n",
        "fifthNode = Node(\"5\")\n",
        "linkedlist.insert_at_end(fifthNode)\n",
        "\n",
        "linkedlist.delete_at_middle()\n",
        "\n",
        "linkedlist.printList()"
      ],
      "metadata": {
        "colab": {
          "base_uri": "https://localhost:8080/"
        },
        "id": "pQilf2lfOQ4Z",
        "outputId": "d8f2383a-49f9-441e-97e9-db2df25a36df"
      },
      "execution_count": 11,
      "outputs": [
        {
          "output_type": "stream",
          "name": "stdout",
          "text": [
            "1 -> 2 -> 4 -> 5 -> "
          ]
        }
      ]
    },
    {
      "cell_type": "code",
      "source": [],
      "metadata": {
        "id": "G6_iSDvmR6Oi"
      },
      "execution_count": null,
      "outputs": []
    }
  ]
}