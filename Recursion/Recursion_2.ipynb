{
  "nbformat": 4,
  "nbformat_minor": 0,
  "metadata": {
    "colab": {
      "provenance": []
    },
    "kernelspec": {
      "name": "python3",
      "display_name": "Python 3"
    },
    "language_info": {
      "name": "python"
    }
  },
  "cells": [
    {
      "cell_type": "code",
      "execution_count": 15,
      "metadata": {
        "colab": {
          "base_uri": "https://localhost:8080/",
          "height": 35
        },
        "id": "RhuGqmaOZYHs",
        "outputId": "be36d7bd-49d1-43a0-889a-3b45a6287168"
      },
      "outputs": [
        {
          "output_type": "execute_result",
          "data": {
            "text/plain": [
              "'bccdh'"
            ],
            "application/vnd.google.colaboratory.intrinsic+json": {
              "type": "string"
            }
          },
          "metadata": {},
          "execution_count": 15
        }
      ],
      "source": [
        "def remove_character(s,i):\n",
        "  if len(s) == i:\n",
        "    return \"\"\n",
        "\n",
        "  ch = s[i]\n",
        "\n",
        "  if ch == \"a\":\n",
        "    return remove_character(s,i+1)\n",
        "  else:\n",
        "    return ch+remove_character(s,i+1)\n",
        "\n",
        "remove_character(\"bccadah\",0)"
      ]
    },
    {
      "cell_type": "code",
      "source": [
        "def subseq(sub,string):\n",
        "  if string == \"\":\n",
        "    print(sub)\n",
        "    return\n",
        "\n",
        "  ch = string[0]\n",
        "\n",
        "  subseq(sub+ch,string[1:])\n",
        "  subseq(sub,string[1:])\n",
        "\n",
        "subseq(\"\",\"abc\")"
      ],
      "metadata": {
        "id": "VJjyuM4EajcT",
        "colab": {
          "base_uri": "https://localhost:8080/"
        },
        "outputId": "35e542bd-c6a5-437c-9133-97ed80ef2b33"
      },
      "execution_count": 16,
      "outputs": [
        {
          "output_type": "stream",
          "name": "stdout",
          "text": [
            "abc\n",
            "ab\n",
            "ac\n",
            "a\n",
            "bc\n",
            "b\n",
            "c\n",
            "\n"
          ]
        }
      ]
    },
    {
      "cell_type": "code",
      "source": [
        "def permutations(sub,string):\n",
        "  if string == \"\":\n",
        "    print(sub)\n",
        "    return\n",
        "\n",
        "  ch = string[0]\n",
        "\n",
        "  for i in range(0,len(sub)+1):\n",
        "    f = sub[0:i]\n",
        "    s = sub[i:]\n",
        "    permutations(f+ch+s,string[1:])\n",
        "permutations(\"\",\"abc\")"
      ],
      "metadata": {
        "id": "nbWpNlAITl5G",
        "colab": {
          "base_uri": "https://localhost:8080/"
        },
        "outputId": "1c2e5df6-603a-41bf-8781-7739294bca76"
      },
      "execution_count": 17,
      "outputs": [
        {
          "output_type": "stream",
          "name": "stdout",
          "text": [
            "cba\n",
            "bca\n",
            "bac\n",
            "cab\n",
            "acb\n",
            "abc\n"
          ]
        }
      ]
    },
    {
      "cell_type": "markdown",
      "source": [
        "#4/NOV"
      ],
      "metadata": {
        "id": "8E9qEHpOnyXa"
      }
    },
    {
      "cell_type": "code",
      "source": [
        "class Solution:\n",
        "  def maze(self,r,c):\n",
        "    if r==1 or c==1:\n",
        "      return 1\n",
        "    left = self.maze(r-1,c)\n",
        "    right = self.maze(r,c-1)\n",
        "    return left+right\n",
        "sol = Solution()\n",
        "print(sol.maze(3,3))\n"
      ],
      "metadata": {
        "id": "ap7NIxHh-pUb",
        "colab": {
          "base_uri": "https://localhost:8080/"
        },
        "outputId": "43c7ab19-a775-44bc-81ba-ca4c1f2d60d2"
      },
      "execution_count": 18,
      "outputs": [
        {
          "output_type": "stream",
          "name": "stdout",
          "text": [
            "6\n"
          ]
        }
      ]
    },
    {
      "cell_type": "code",
      "source": [
        "class Solution:\n",
        "  def path(self,c,r,new_arr,string):\n",
        "    if r==1 and c==1:\n",
        "      new_arr.append(string)\n",
        "      return\n",
        "    if r>1:\n",
        "      self.path(c,r-1,new_arr,string+\"R\")\n",
        "    if c>1:\n",
        "      self.path(c-1,r,new_arr,string+\"D\")\n",
        "sol = Solution()\n",
        "new_arr = []\n",
        "sol.path(3,3,new_arr,\"\")\n",
        "print(new_arr)"
      ],
      "metadata": {
        "colab": {
          "base_uri": "https://localhost:8080/"
        },
        "id": "mdEjer0qhq9_",
        "outputId": "2623c4be-962b-4a81-8312-db57b58dae06"
      },
      "execution_count": 19,
      "outputs": [
        {
          "output_type": "stream",
          "name": "stdout",
          "text": [
            "['RRDD', 'RDRD', 'RDDR', 'DRRD', 'DRDR', 'DDRR']\n"
          ]
        }
      ]
    },
    {
      "cell_type": "code",
      "source": [
        "class Solution:\n",
        "  def diagonalMaze(self,c,r,new_arr,string):\n",
        "    if r==1 and c==1:\n",
        "      new_arr.append(string)\n",
        "      return\n",
        "    if c>1 and r>1:\n",
        "      self.diagonalMaze(c-1,r-1,new_arr,string+\"D\")\n",
        "    if r>1:\n",
        "      self.diagonalMaze(c,r-1,new_arr,string+\"V\")\n",
        "    if c>1:\n",
        "      self.diagonalMaze(c-1,r,new_arr,string+\"H\")\n",
        "sol = Solution()\n",
        "new_arr = []\n",
        "sol.diagonalMaze(3,3,new_arr,\"\")\n",
        "print(new_arr)"
      ],
      "metadata": {
        "colab": {
          "base_uri": "https://localhost:8080/"
        },
        "id": "1VUi0mizo61i",
        "outputId": "d73951f3-6691-4a67-f803-29871a787cb6"
      },
      "execution_count": 20,
      "outputs": [
        {
          "output_type": "stream",
          "name": "stdout",
          "text": [
            "['DD', 'DVH', 'DHV', 'VDH', 'VVHH', 'VHD', 'VHVH', 'VHHV', 'HDV', 'HVD', 'HVVH', 'HVHV', 'HHVV']\n"
          ]
        }
      ]
    },
    {
      "cell_type": "code",
      "source": [],
      "metadata": {
        "id": "woV7FGRatWGc"
      },
      "execution_count": 20,
      "outputs": []
    }
  ]
}