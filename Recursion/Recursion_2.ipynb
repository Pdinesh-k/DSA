{
  "nbformat": 4,
  "nbformat_minor": 0,
  "metadata": {
    "colab": {
      "provenance": []
    },
    "kernelspec": {
      "name": "python3",
      "display_name": "Python 3"
    },
    "language_info": {
      "name": "python"
    }
  },
  "cells": [
    {
      "cell_type": "code",
      "execution_count": 1,
      "metadata": {
        "colab": {
          "base_uri": "https://localhost:8080/",
          "height": 35
        },
        "id": "RhuGqmaOZYHs",
        "outputId": "23d9c004-4aa0-456c-992e-c3f9d4b9d487"
      },
      "outputs": [
        {
          "output_type": "execute_result",
          "data": {
            "text/plain": [
              "'bccdh'"
            ],
            "application/vnd.google.colaboratory.intrinsic+json": {
              "type": "string"
            }
          },
          "metadata": {},
          "execution_count": 1
        }
      ],
      "source": [
        "def remove_character(s,i):\n",
        "  if len(s) == i:\n",
        "    return \"\"\n",
        "\n",
        "  ch = s[i]\n",
        "\n",
        "  if ch == \"a\":\n",
        "    return remove_character(s,i+1)\n",
        "  else:\n",
        "    return ch+remove_character(s,i+1)\n",
        "\n",
        "remove_character(\"bccadah\",0)"
      ]
    },
    {
      "cell_type": "code",
      "source": [
        "def subseq(sub,string):\n",
        "  if string == \"\":\n",
        "    print(sub)\n",
        "    return\n",
        "\n",
        "  ch = string[0]\n",
        "\n",
        "  subseq(sub+ch,string[1:])\n",
        "  subseq(sub,string[1:])\n",
        "\n",
        "subseq(\"\",\"abc\")"
      ],
      "metadata": {
        "id": "VJjyuM4EajcT",
        "colab": {
          "base_uri": "https://localhost:8080/"
        },
        "outputId": "377be3ee-cebb-46b8-e7e5-888e7948f54b"
      },
      "execution_count": 2,
      "outputs": [
        {
          "output_type": "stream",
          "name": "stdout",
          "text": [
            "abc\n",
            "ab\n",
            "ac\n",
            "a\n",
            "bc\n",
            "b\n",
            "c\n",
            "\n"
          ]
        }
      ]
    },
    {
      "cell_type": "code",
      "source": [
        "def permutations(sub,string):\n",
        "  if string == \"\":\n",
        "    print(sub)\n",
        "    return\n",
        "\n",
        "  ch = string[0]\n",
        "\n",
        "  for i in range(0,len(sub)+1):\n",
        "    f = sub[0:i]\n",
        "    s = sub[i:]\n",
        "    permutations(f+ch+s,string[1:])\n",
        "permutations(\"\",\"abc\")"
      ],
      "metadata": {
        "id": "nbWpNlAITl5G",
        "colab": {
          "base_uri": "https://localhost:8080/"
        },
        "outputId": "5afa5652-a0e8-4603-a6ab-b9759e1e9cf5"
      },
      "execution_count": 3,
      "outputs": [
        {
          "output_type": "stream",
          "name": "stdout",
          "text": [
            "cba\n",
            "bca\n",
            "bac\n",
            "cab\n",
            "acb\n",
            "abc\n"
          ]
        }
      ]
    },
    {
      "cell_type": "markdown",
      "source": [
        "#4/NOV"
      ],
      "metadata": {
        "id": "8E9qEHpOnyXa"
      }
    },
    {
      "cell_type": "code",
      "source": [
        "class Solution:\n",
        "  def maze(self,r,c):\n",
        "    if r==1 or c==1:\n",
        "      return 1\n",
        "    left = self.maze(r-1,c)\n",
        "    right = self.maze(r,c-1)\n",
        "    return left+right\n",
        "sol = Solution()\n",
        "print(sol.maze(3,3))\n"
      ],
      "metadata": {
        "id": "ap7NIxHh-pUb",
        "colab": {
          "base_uri": "https://localhost:8080/"
        },
        "outputId": "8a6768e6-d37f-4e37-8503-3a416e7582c6"
      },
      "execution_count": 4,
      "outputs": [
        {
          "output_type": "stream",
          "name": "stdout",
          "text": [
            "6\n"
          ]
        }
      ]
    },
    {
      "cell_type": "code",
      "source": [
        "class Solution:\n",
        "  def path(self,c,r,new_arr,string):\n",
        "    if r==1 and c==1:\n",
        "      new_arr.append(string)\n",
        "      return\n",
        "    if r>1:\n",
        "      self.path(c,r-1,new_arr,string+\"R\")\n",
        "    if c>1:\n",
        "      self.path(c-1,r,new_arr,string+\"D\")\n",
        "sol = Solution()\n",
        "new_arr = []\n",
        "sol.path(3,3,new_arr,\"\")\n",
        "print(new_arr)"
      ],
      "metadata": {
        "colab": {
          "base_uri": "https://localhost:8080/"
        },
        "id": "mdEjer0qhq9_",
        "outputId": "4d8cc89e-c79a-4f4d-f7b7-f9d83a46fb0f"
      },
      "execution_count": 5,
      "outputs": [
        {
          "output_type": "stream",
          "name": "stdout",
          "text": [
            "['RRDD', 'RDRD', 'RDDR', 'DRRD', 'DRDR', 'DDRR']\n"
          ]
        }
      ]
    },
    {
      "cell_type": "code",
      "source": [
        "class Solution:\n",
        "  def diagonalMaze(self,c,r,new_arr,string):\n",
        "    if r==1 and c==1:\n",
        "      new_arr.append(string)\n",
        "      return\n",
        "    if c>1 and r>1:\n",
        "      self.diagonalMaze(c-1,r-1,new_arr,string+\"D\")\n",
        "    if r>1:\n",
        "      self.diagonalMaze(c,r-1,new_arr,string+\"V\")\n",
        "    if c>1:\n",
        "      self.diagonalMaze(c-1,r,new_arr,string+\"H\")\n",
        "sol = Solution()\n",
        "new_arr = []\n",
        "sol.diagonalMaze(3,3,new_arr,\"\")\n",
        "print(new_arr)"
      ],
      "metadata": {
        "colab": {
          "base_uri": "https://localhost:8080/"
        },
        "id": "1VUi0mizo61i",
        "outputId": "63e726b3-4048-4247-bf99-a38ab70451d9"
      },
      "execution_count": 6,
      "outputs": [
        {
          "output_type": "stream",
          "name": "stdout",
          "text": [
            "['DD', 'DVH', 'DHV', 'VDH', 'VVHH', 'VHD', 'VHVH', 'VHHV', 'HDV', 'HVD', 'HVVH', 'HVHV', 'HHVV']\n"
          ]
        }
      ]
    },
    {
      "cell_type": "markdown",
      "source": [
        "#5/11"
      ],
      "metadata": {
        "id": "iHkamCpQNC0j"
      }
    },
    {
      "cell_type": "code",
      "source": [
        "def obstacleMaze(r,c,new_arr,string,arr):\n",
        "  if arr[r][c] == False:\n",
        "    return\n",
        "  if r==2 and c==2:\n",
        "    new_arr.append(string)\n",
        "    return\n",
        "  if r<len(arr)-1:\n",
        "    obstacleMaze(r+1,c,new_arr,string+\"R\",arr)\n",
        "  if c<len(arr[0])-1:\n",
        "    obstacleMaze(r,c+1,new_arr,string+\"D\",arr)\n",
        "\n",
        "arr = [[True , True , True],[True,False,True],[True,True,True]]\n",
        "new_arr = []\n",
        "obstacleMaze(0,0,new_arr,\"\",arr)\n",
        "print(new_arr)"
      ],
      "metadata": {
        "id": "woV7FGRatWGc",
        "colab": {
          "base_uri": "https://localhost:8080/"
        },
        "outputId": "b98b76d6-0b4a-45a0-f35f-bc27deb37767"
      },
      "execution_count": 7,
      "outputs": [
        {
          "output_type": "stream",
          "name": "stdout",
          "text": [
            "['RRDD', 'DDRR']\n"
          ]
        }
      ]
    },
    {
      "cell_type": "code",
      "source": [
        "def allPaths(r,c,new_arr,string,arr):\n",
        "  if arr[r][c] == False:\n",
        "    return\n",
        "  if r==2 and c==2:\n",
        "    new_arr.append(string)\n",
        "    return\n",
        "  arr[r][c] = False\n",
        "  if r<len(arr)-1:\n",
        "    allPaths(r+1,c,new_arr,string+\"D\",arr)\n",
        "  if c<len(arr[0])-1:\n",
        "    allPaths(r,c+1,new_arr,string+\"R\",arr)\n",
        "  if r>0:\n",
        "    allPaths(r-1,c,new_arr,string+\"U\",arr)\n",
        "  if c>0:\n",
        "    allPaths(r,c-1,new_arr,string+\"L\",arr)\n",
        "  arr[r][c] = True\n",
        "\n",
        "arr = [[True , True , True],[True,True,True],[True,True,True]]\n",
        "new_arr = []\n",
        "allPaths(0,0,new_arr,\"\",arr)\n",
        "print(new_arr)"
      ],
      "metadata": {
        "colab": {
          "base_uri": "https://localhost:8080/"
        },
        "id": "6ck5nu5eA78J",
        "outputId": "c3166594-d1bc-4f9f-e0a1-ee44fd22ac4f"
      },
      "execution_count": 8,
      "outputs": [
        {
          "output_type": "stream",
          "name": "stdout",
          "text": [
            "['DDRR', 'DDRURD', 'DDRUURDD', 'DRDR', 'DRRD', 'DRURDD', 'RDDR', 'RDRD', 'RDLDRR', 'RRDD', 'RRDLDR', 'RRDLLDRR']\n"
          ]
        }
      ]
    },
    {
      "cell_type": "code",
      "source": [],
      "metadata": {
        "id": "AJ5inc8CKOfU"
      },
      "execution_count": 8,
      "outputs": []
    }
  ]
}