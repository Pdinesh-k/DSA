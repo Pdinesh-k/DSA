{
  "nbformat": 4,
  "nbformat_minor": 0,
  "metadata": {
    "colab": {
      "provenance": []
    },
    "kernelspec": {
      "name": "python3",
      "display_name": "Python 3"
    },
    "language_info": {
      "name": "python"
    }
  },
  "cells": [
    {
      "cell_type": "code",
      "source": [
        "def func(num):\n",
        "  if(num==5):\n",
        "    return 5\n",
        "  else:\n",
        "    print(num)\n",
        "    return func(num+1)\n",
        "func(1)"
      ],
      "metadata": {
        "colab": {
          "base_uri": "https://localhost:8080/"
        },
        "id": "G5ypXK5wdh3q",
        "outputId": "7c265afc-2271-45af-96c2-abb1b17c1e30"
      },
      "execution_count": 1,
      "outputs": [
        {
          "output_type": "stream",
          "name": "stdout",
          "text": [
            "1\n",
            "2\n",
            "3\n",
            "4\n"
          ]
        },
        {
          "output_type": "execute_result",
          "data": {
            "text/plain": [
              "5"
            ]
          },
          "metadata": {},
          "execution_count": 1
        }
      ]
    },
    {
      "cell_type": "markdown",
      "source": [
        "Fibanocci Numbers"
      ],
      "metadata": {
        "id": "N6hGIy5JvUZB"
      }
    },
    {
      "cell_type": "code",
      "source": [
        "\n",
        "def fib(n):\n",
        "  if n<2:\n",
        "    return n\n",
        "  else:\n",
        "    return fib(n-1)+fib(n-2)\n",
        "\n",
        "fib(7)\n"
      ],
      "metadata": {
        "colab": {
          "base_uri": "https://localhost:8080/"
        },
        "id": "5YTuBFqBeEU7",
        "outputId": "6041093d-f897-41a3-c7e9-b99a6335a67f"
      },
      "execution_count": 2,
      "outputs": [
        {
          "output_type": "execute_result",
          "data": {
            "text/plain": [
              "13"
            ]
          },
          "metadata": {},
          "execution_count": 2
        }
      ]
    },
    {
      "cell_type": "markdown",
      "source": [
        "BinarySearch"
      ],
      "metadata": {
        "id": "0JMNd4g76nyc"
      }
    },
    {
      "cell_type": "code",
      "source": [
        "def binarySearch(arr,target,start,end):\n",
        "    mid = (start+end)//2\n",
        "    if start>end:\n",
        "      return -1\n",
        "    if(arr[mid]==target):\n",
        "      return mid\n",
        "    elif arr[mid]<target:\n",
        "      return binarySearch(arr,target,mid+1,end)\n",
        "    else:\n",
        "      return binarySearch(arr,target,start,mid-1)\n",
        "arr=[1,2,3,4,5,6,7,10,11]\n",
        "print(binarySearch(arr,100,0,(len(arr)-1)))"
      ],
      "metadata": {
        "colab": {
          "base_uri": "https://localhost:8080/"
        },
        "id": "BK36iaeAvs5l",
        "outputId": "05366478-b5d3-4cbe-f331-fc298bf05a6e"
      },
      "execution_count": 3,
      "outputs": [
        {
          "output_type": "stream",
          "name": "stdout",
          "text": [
            "-1\n"
          ]
        }
      ]
    },
    {
      "cell_type": "markdown",
      "source": [
        "Factroial of a number"
      ],
      "metadata": {
        "id": "h6OUYS3C2yjH"
      }
    },
    {
      "cell_type": "code",
      "source": [
        "def factorial(n):\n",
        "  if n==1:\n",
        "    return 1\n",
        "  else:\n",
        "    return n*factorial(n-1)\n",
        "factorial(5)"
      ],
      "metadata": {
        "colab": {
          "base_uri": "https://localhost:8080/"
        },
        "id": "SANzz4xQouVK",
        "outputId": "c24ceca0-e3e8-4b32-c1ae-0753aa16a000"
      },
      "execution_count": 4,
      "outputs": [
        {
          "output_type": "execute_result",
          "data": {
            "text/plain": [
              "120"
            ]
          },
          "metadata": {},
          "execution_count": 4
        }
      ]
    },
    {
      "cell_type": "markdown",
      "source": [
        "Sum of Digits"
      ],
      "metadata": {
        "id": "QWOI3rOiJhNa"
      }
    },
    {
      "cell_type": "code",
      "source": [
        "def sum_of_digit(n):\n",
        "  if n==0:\n",
        "    return 0\n",
        "  else:\n",
        "    return n%10+sum_of_digit(n//10)\n",
        "sum_of_digit(1342)"
      ],
      "metadata": {
        "id": "3HtBmmTTpBOn",
        "colab": {
          "base_uri": "https://localhost:8080/"
        },
        "outputId": "bae3aeee-82e5-42f1-bc9b-8221684f6abb"
      },
      "execution_count": 5,
      "outputs": [
        {
          "output_type": "execute_result",
          "data": {
            "text/plain": [
              "10"
            ]
          },
          "metadata": {},
          "execution_count": 5
        }
      ]
    },
    {
      "cell_type": "markdown",
      "source": [
        "Product of Digits"
      ],
      "metadata": {
        "id": "dPq7Id1NLGg9"
      }
    },
    {
      "cell_type": "code",
      "source": [
        "def product_of_digits(n):\n",
        "  if n==0:\n",
        "    return 1\n",
        "  return n%10*product_of_digits(n//10)\n",
        "product_of_digits(1342)"
      ],
      "metadata": {
        "colab": {
          "base_uri": "https://localhost:8080/"
        },
        "id": "ulQUt5MeI-ND",
        "outputId": "aa564957-6ee2-48a3-e950-2414ff054c41"
      },
      "execution_count": 6,
      "outputs": [
        {
          "output_type": "execute_result",
          "data": {
            "text/plain": [
              "24"
            ]
          },
          "metadata": {},
          "execution_count": 6
        }
      ]
    },
    {
      "cell_type": "markdown",
      "source": [
        "Reverse a number"
      ],
      "metadata": {
        "id": "gqxQxQxtTDyF"
      }
    },
    {
      "cell_type": "code",
      "source": [
        "def reverse_num(n):\n",
        "  if n<10:\n",
        "    return n\n",
        "  length = len(str(n))-1\n",
        "  return (n%10)*(10**length)+reverse_num(n//10)\n",
        "reverse_num(6789)"
      ],
      "metadata": {
        "colab": {
          "base_uri": "https://localhost:8080/"
        },
        "id": "U5hajJAcLUBG",
        "outputId": "5e9bed3d-6e75-47d7-ae83-fd90f40bb7a3"
      },
      "execution_count": 7,
      "outputs": [
        {
          "output_type": "execute_result",
          "data": {
            "text/plain": [
              "9876"
            ]
          },
          "metadata": {},
          "execution_count": 7
        }
      ]
    },
    {
      "cell_type": "markdown",
      "source": [
        "Palindrome"
      ],
      "metadata": {
        "id": "r_sTqCADa4-C"
      }
    },
    {
      "cell_type": "code",
      "source": [
        "def palindrome(start,end,word):\n",
        "  if(start>=end):\n",
        "    return True\n",
        "  if word[start]!=word[end]:\n",
        "    return False\n",
        "  return palindrome(start+1,end-1,word)\n",
        "palindrome(0,len(\"madam\")-1,\"madam\")"
      ],
      "metadata": {
        "colab": {
          "base_uri": "https://localhost:8080/"
        },
        "id": "4hmjxeUKOqQt",
        "outputId": "9f210fdf-75b4-4940-dd92-546fef4dd8dc"
      },
      "execution_count": 8,
      "outputs": [
        {
          "output_type": "execute_result",
          "data": {
            "text/plain": [
              "True"
            ]
          },
          "metadata": {},
          "execution_count": 8
        }
      ]
    },
    {
      "cell_type": "markdown",
      "source": [
        "Count number of zeroes in a number"
      ],
      "metadata": {
        "id": "pNu-Zd1KbAnk"
      }
    },
    {
      "cell_type": "code",
      "source": [
        "def count(num):\n",
        "  count_zeroes = 0\n",
        "  if num%10==0:\n",
        "    count_zeroes+=1\n",
        "  if num//10==0:\n",
        "    return count_zeroes\n",
        "  return count_zeroes+count(num//10)\n",
        "count(100203)"
      ],
      "metadata": {
        "colab": {
          "base_uri": "https://localhost:8080/"
        },
        "id": "uJmNFB0gWpiW",
        "outputId": "8ce01e35-f12e-420e-d278-384a02a98133"
      },
      "execution_count": 9,
      "outputs": [
        {
          "output_type": "execute_result",
          "data": {
            "text/plain": [
              "3"
            ]
          },
          "metadata": {},
          "execution_count": 9
        }
      ]
    },
    {
      "cell_type": "markdown",
      "source": [
        "Array is Sorted or Not"
      ],
      "metadata": {
        "id": "PEQxM8FUpf5e"
      }
    },
    {
      "cell_type": "code",
      "source": [
        "def sort(arr,start):\n",
        "  if(start+1>=len(arr)):\n",
        "    return True\n",
        "  elif(arr[start]>arr[start+1]):\n",
        "    return False\n",
        "  return sort(arr,start+1)\n",
        "\n",
        "arr = [1,2,3,0]\n",
        "sort(arr,0)"
      ],
      "metadata": {
        "colab": {
          "base_uri": "https://localhost:8080/"
        },
        "id": "efr9BuH1cIC8",
        "outputId": "9471bf18-b4c4-484f-811b-37bab9f86214"
      },
      "execution_count": 10,
      "outputs": [
        {
          "output_type": "execute_result",
          "data": {
            "text/plain": [
              "False"
            ]
          },
          "metadata": {},
          "execution_count": 10
        }
      ]
    },
    {
      "cell_type": "markdown",
      "source": [
        "LinearSearch"
      ],
      "metadata": {
        "id": "vHwLAy7OtH-A"
      }
    },
    {
      "cell_type": "code",
      "source": [
        "def linearSearch(arr,index,target):\n",
        "  if index>=len(arr):\n",
        "    return -1\n",
        "  elif arr[index] == target:\n",
        "    return index\n",
        "  return linearSearch(arr,index+1,target)\n",
        "\n",
        "arr=[1,2,45,6,7]\n",
        "index = 0\n",
        "target = 45\n",
        "linearSearch(arr,index,target)"
      ],
      "metadata": {
        "colab": {
          "base_uri": "https://localhost:8080/"
        },
        "id": "V9fYjX0IrN-D",
        "outputId": "097b6a46-a051-486d-b4bc-e8d300e19e5a"
      },
      "execution_count": 11,
      "outputs": [
        {
          "output_type": "execute_result",
          "data": {
            "text/plain": [
              "2"
            ]
          },
          "metadata": {},
          "execution_count": 11
        }
      ]
    },
    {
      "cell_type": "markdown",
      "source": [
        "Return a list in LinearSearch"
      ],
      "metadata": {
        "id": "u06T5LtPFz-E"
      }
    },
    {
      "cell_type": "code",
      "source": [
        "def linearSearch(arr,index,target,ls):\n",
        "  if index>=len(arr):\n",
        "    return ls\n",
        "  elif arr[index]==target:\n",
        "    ls.append(index)\n",
        "  return linearSearch(arr,index+1,target,ls)\n",
        "\n",
        "arr = [1,2,3,4,4,4,5,6]\n",
        "index = 0\n",
        "target = 4\n",
        "ls = []\n",
        "linearSearch(arr,index,target,ls)"
      ],
      "metadata": {
        "id": "kHUpbDCSt_sC",
        "colab": {
          "base_uri": "https://localhost:8080/"
        },
        "outputId": "df3a1fb6-83a0-4976-d38f-1a95c5e11480"
      },
      "execution_count": 12,
      "outputs": [
        {
          "output_type": "execute_result",
          "data": {
            "text/plain": [
              "[3, 4, 5]"
            ]
          },
          "metadata": {},
          "execution_count": 12
        }
      ]
    },
    {
      "cell_type": "markdown",
      "source": [
        "Return the list without passing the arguement"
      ],
      "metadata": {
        "id": "GlblWLhbJ-Ci"
      }
    },
    {
      "cell_type": "code",
      "source": [
        "def linearSearch(arr,index,target):\n",
        "\n",
        "  if index>=len(arr):\n",
        "    return []\n",
        "  elif arr[index]==target:\n",
        "    return [index]+linearSearch(arr,index+1,target)\n",
        "  return linearSearch(arr,index+1,target)\n",
        "\n",
        "arr = [1,2,3,4,4,4,5,6]\n",
        "index = 0\n",
        "target = 4\n",
        "linearSearch(arr,index,target)"
      ],
      "metadata": {
        "colab": {
          "base_uri": "https://localhost:8080/"
        },
        "id": "UAFsfXURGd-j",
        "outputId": "7bc98a08-4cbf-461a-e685-88366648eada"
      },
      "execution_count": 13,
      "outputs": [
        {
          "output_type": "execute_result",
          "data": {
            "text/plain": [
              "[3, 4, 5]"
            ]
          },
          "metadata": {},
          "execution_count": 13
        }
      ]
    },
    {
      "cell_type": "markdown",
      "source": [
        "#27/8"
      ],
      "metadata": {
        "id": "z0WTMGs0rFJY"
      }
    },
    {
      "cell_type": "markdown",
      "source": [
        "Pattern"
      ],
      "metadata": {
        "id": "35-3yyEitfyp"
      }
    },
    {
      "cell_type": "code",
      "source": [
        "def pattern(row,column):\n",
        "  if (row==0):\n",
        "    return\n",
        "  if(column<row):\n",
        "    print(\"*\",end=\" \")\n",
        "    pattern(row,column+1)\n",
        "  else:\n",
        "    print()\n",
        "    pattern(row-1,0)\n",
        "pattern(6,6)"
      ],
      "metadata": {
        "id": "3CDQHt8wAKmO",
        "colab": {
          "base_uri": "https://localhost:8080/"
        },
        "outputId": "01e3b405-e345-4465-b6b4-00ef20350083"
      },
      "execution_count": 14,
      "outputs": [
        {
          "output_type": "stream",
          "name": "stdout",
          "text": [
            "\n",
            "* * * * * \n",
            "* * * * \n",
            "* * * \n",
            "* * \n",
            "* \n"
          ]
        }
      ]
    },
    {
      "cell_type": "markdown",
      "source": [
        "Bubble Sort"
      ],
      "metadata": {
        "id": "R4z6CR4cClSe"
      }
    },
    {
      "cell_type": "code",
      "source": [
        "def bubbleSort(arr,r,c):\n",
        "  if(r==0):\n",
        "    return\n",
        "  if(c<r-1):\n",
        "    if(arr[c]>arr[c+1]):\n",
        "      arr[c],arr[c+1]=arr[c+1],arr[c]\n",
        "      bubbleSort(arr,r,c+1)\n",
        "  else:\n",
        "    bubbleSort(arr,r-1,c=0)\n",
        "\n",
        "arr = [4,3,2,1]\n",
        "bubbleSort(arr,len(arr),0)\n",
        "print(arr)\n"
      ],
      "metadata": {
        "colab": {
          "base_uri": "https://localhost:8080/"
        },
        "id": "mfaXveYhuasz",
        "outputId": "e92cf86a-bd49-4e26-a6ab-4c56efe1faa9"
      },
      "execution_count": 15,
      "outputs": [
        {
          "output_type": "stream",
          "name": "stdout",
          "text": [
            "[1, 2, 3, 4]\n"
          ]
        }
      ]
    },
    {
      "cell_type": "markdown",
      "source": [
        "Selection Sort"
      ],
      "metadata": {
        "id": "noiz3XrzCnCi"
      }
    },
    {
      "cell_type": "code",
      "source": [
        "def SelectionSort(arr,r,c):\n",
        "\n",
        "  if(r==0):\n",
        "    return\n",
        "  if(c<r-1):\n",
        "    max_ = arr.index(max(arr[c:r+1]))\n",
        "    arr[max_],arr[r] = arr[r],arr[max_]\n",
        "    SelectionSort(arr,r-1,c)\n",
        "\n",
        "arr = [8, 5, 4, 3, 6, 7, 1]\n",
        "SelectionSort(arr,len(arr)-1,0)\n",
        "print(arr)"
      ],
      "metadata": {
        "colab": {
          "base_uri": "https://localhost:8080/"
        },
        "id": "9m_OlsC7za9r",
        "outputId": "4e723902-abf9-47b3-cfd8-a787d783cef2"
      },
      "execution_count": 16,
      "outputs": [
        {
          "output_type": "stream",
          "name": "stdout",
          "text": [
            "[1, 3, 4, 5, 6, 7, 8]\n"
          ]
        }
      ]
    },
    {
      "cell_type": "markdown",
      "source": [
        "MergeSort"
      ],
      "metadata": {
        "id": "-Uf4ztvANzQV"
      }
    },
    {
      "cell_type": "code",
      "source": [
        "def mergeSort(arr):\n",
        "\n",
        "  if len(arr)<=1:\n",
        "    return arr\n",
        "\n",
        "  mid = len(arr)//2\n",
        "\n",
        "  left = mergeSort(arr[:mid])\n",
        "  right = mergeSort(arr[mid:])\n",
        "\n",
        "  return merge(left,right)\n",
        "\n",
        "\n",
        "def merge(first,second):\n",
        "  i,j=0,0\n",
        "  mix = []\n",
        "\n",
        "  while(i<len(first) and j<len(second)):\n",
        "    if first[i]<=second[j]:\n",
        "      mix.append(first[i])\n",
        "      i+=1\n",
        "    else:\n",
        "      mix.append(second[j])\n",
        "      j+=1\n",
        "\n",
        "  while(i<len(first)):\n",
        "    mix.append(first[i])\n",
        "    i+=1\n",
        "\n",
        "  while(j<len(second)):\n",
        "    mix.append(second[j])\n",
        "    j+=1\n",
        "  return mix\n",
        "\n",
        "arr = [5,3,4,5,6,7]\n",
        "ans = mergeSort(arr)\n",
        "print(ans)"
      ],
      "metadata": {
        "colab": {
          "base_uri": "https://localhost:8080/"
        },
        "id": "dIIZo1Sb-0B7",
        "outputId": "8481009b-5513-43ac-89eb-29bf5ed7f06e"
      },
      "execution_count": 17,
      "outputs": [
        {
          "output_type": "stream",
          "name": "stdout",
          "text": [
            "[3, 4, 5, 5, 6, 7]\n"
          ]
        }
      ]
    },
    {
      "cell_type": "markdown",
      "source": [
        "QuickSort"
      ],
      "metadata": {
        "id": "RhdSwM4GRUPu"
      }
    },
    {
      "cell_type": "code",
      "source": [
        "def quickSort(arr,low,high):\n",
        "\n",
        "  if low>=high:\n",
        "    return\n",
        "\n",
        "  s = low\n",
        "  e = high\n",
        "  m = (s+e)//2\n",
        "  pivot = arr[m]\n",
        "\n",
        "  while(s<=e):\n",
        "    while(arr[s]<pivot):\n",
        "      s+=1\n",
        "    while(arr[e]>pivot):\n",
        "      e-=1\n",
        "    if(s<=e):\n",
        "      arr[s],arr[e] = arr[e],arr[s]\n",
        "      s+=1\n",
        "      e-=1\n",
        "  quickSort(arr,low,e)\n",
        "  quickSort(arr,s,high)\n",
        "\n",
        "arr = [4,5,6,2,1,4,7,8]\n",
        "quickSort(arr,0,len(arr)-1)\n",
        "print(arr)"
      ],
      "metadata": {
        "colab": {
          "base_uri": "https://localhost:8080/"
        },
        "id": "GKaFVvtwKdgO",
        "outputId": "28211b23-bc53-4076-e6c4-6256c0c66eef"
      },
      "execution_count": 18,
      "outputs": [
        {
          "output_type": "stream",
          "name": "stdout",
          "text": [
            "[1, 2, 4, 4, 5, 6, 7, 8]\n"
          ]
        }
      ]
    },
    {
      "cell_type": "markdown",
      "source": [
        "#28/8/24"
      ],
      "metadata": {
        "id": "o8ochKGCfBE-"
      }
    },
    {
      "cell_type": "markdown",
      "source": [
        "#String"
      ],
      "metadata": {
        "id": "8-Ssw_z7Tg6S"
      }
    },
    {
      "cell_type": "markdown",
      "source": [
        "Question : str : baccad , the new String should be ans : bccd , you need to remove a from that"
      ],
      "metadata": {
        "id": "_KtXKbuCTyJy"
      }
    },
    {
      "cell_type": "markdown",
      "source": [
        "1 :"
      ],
      "metadata": {
        "id": "Q3L4U_oTfYRq"
      }
    },
    {
      "cell_type": "code",
      "source": [
        "\n",
        "def func(String,i):\n",
        "\n",
        "  _str = String\n",
        "\n",
        "  if i>=len(String):\n",
        "    return \"\"\n",
        "\n",
        "  s = _str[i]\n",
        "\n",
        "  if s == \"a\":\n",
        "    return func(String,i+1)\n",
        "  else:\n",
        "    return s+func(String,i+1)\n",
        "\n",
        "String = \"bccad\"\n",
        "func(String,0)\n",
        "\n",
        "\n"
      ],
      "metadata": {
        "colab": {
          "base_uri": "https://localhost:8080/",
          "height": 35
        },
        "id": "sNuoVuUyTbxn",
        "outputId": "3586e3fb-85e4-4d55-9867-b44ae5f3581a"
      },
      "execution_count": 37,
      "outputs": [
        {
          "output_type": "execute_result",
          "data": {
            "text/plain": [
              "'bccd'"
            ],
            "application/vnd.google.colaboratory.intrinsic+json": {
              "type": "string"
            }
          },
          "metadata": {},
          "execution_count": 37
        }
      ]
    },
    {
      "cell_type": "markdown",
      "source": [
        "2 : Skip apple word"
      ],
      "metadata": {
        "id": "btLwquQDfclH"
      }
    },
    {
      "cell_type": "code",
      "source": [
        "def func(String,i):\n",
        "\n",
        "  _str = String\n",
        "  _len = len(String)\n",
        "\n",
        "  if i>=len(_str):\n",
        "    return \"\"\n",
        "\n",
        "  element = _str[i]\n",
        "\n",
        "  if i<=(_len-5):\n",
        "    s = _str[i:i+5]\n",
        "    if s == \"apple\":\n",
        "      return func(_str,i+5)\n",
        "    else:\n",
        "      return element+func(_str,i+1)\n",
        "  else:\n",
        "    return element+func(_str,i+1)\n",
        "\n",
        "String = \"bccappleer\"\n",
        "func(String,0)\n",
        ""
      ],
      "metadata": {
        "colab": {
          "base_uri": "https://localhost:8080/",
          "height": 35
        },
        "id": "j_THfMSFVP5k",
        "outputId": "1381be2c-79dc-4273-e947-071de41938d0"
      },
      "execution_count": 43,
      "outputs": [
        {
          "output_type": "execute_result",
          "data": {
            "text/plain": [
              "'bccer'"
            ],
            "application/vnd.google.colaboratory.intrinsic+json": {
              "type": "string"
            }
          },
          "metadata": {},
          "execution_count": 43
        }
      ]
    },
    {
      "cell_type": "code",
      "source": [],
      "metadata": {
        "id": "sWqmOpwTfa5x"
      },
      "execution_count": null,
      "outputs": []
    }
  ]
}