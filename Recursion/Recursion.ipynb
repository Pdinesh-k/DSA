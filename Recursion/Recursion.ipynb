{
  "nbformat": 4,
  "nbformat_minor": 0,
  "metadata": {
    "colab": {
      "provenance": []
    },
    "kernelspec": {
      "name": "python3",
      "display_name": "Python 3"
    },
    "language_info": {
      "name": "python"
    }
  },
  "cells": [
    {
      "cell_type": "code",
      "source": [
        "def func(num):\n",
        "  if(num==5):\n",
        "    return 5\n",
        "  else:\n",
        "    print(num)\n",
        "    return func(num+1)\n",
        "func(1)"
      ],
      "metadata": {
        "colab": {
          "base_uri": "https://localhost:8080/"
        },
        "id": "G5ypXK5wdh3q",
        "outputId": "42482c55-d7a0-4a29-b028-5580518a88e2"
      },
      "execution_count": 1,
      "outputs": [
        {
          "output_type": "stream",
          "name": "stdout",
          "text": [
            "1\n",
            "2\n",
            "3\n",
            "4\n"
          ]
        },
        {
          "output_type": "execute_result",
          "data": {
            "text/plain": [
              "5"
            ]
          },
          "metadata": {},
          "execution_count": 1
        }
      ]
    },
    {
      "cell_type": "markdown",
      "source": [
        "Fibanocci Numbers"
      ],
      "metadata": {
        "id": "N6hGIy5JvUZB"
      }
    },
    {
      "cell_type": "code",
      "source": [
        "\n",
        "def fib(n):\n",
        "  if n<2:\n",
        "    return n\n",
        "  else:\n",
        "    return fib(n-1)+fib(n-2)\n",
        "\n",
        "fib(7)\n"
      ],
      "metadata": {
        "colab": {
          "base_uri": "https://localhost:8080/"
        },
        "id": "5YTuBFqBeEU7",
        "outputId": "e4d48dbb-3bf3-43dd-abae-d418486082ac"
      },
      "execution_count": 2,
      "outputs": [
        {
          "output_type": "execute_result",
          "data": {
            "text/plain": [
              "13"
            ]
          },
          "metadata": {},
          "execution_count": 2
        }
      ]
    },
    {
      "cell_type": "markdown",
      "source": [
        "BinarySearch"
      ],
      "metadata": {
        "id": "0JMNd4g76nyc"
      }
    },
    {
      "cell_type": "code",
      "source": [
        "def binarySearch(arr,target,start,end):\n",
        "    mid = (start+end)//2\n",
        "    if start>end:\n",
        "      return -1\n",
        "    if(arr[mid]==target):\n",
        "      return mid\n",
        "    elif arr[mid]<target:\n",
        "      return binarySearch(arr,target,mid+1,end)\n",
        "    else:\n",
        "      return binarySearch(arr,target,start,mid-1)\n",
        "arr=[1,2,3,4,5,6,7,10,11]\n",
        "print(binarySearch(arr,100,0,(len(arr)-1)))"
      ],
      "metadata": {
        "colab": {
          "base_uri": "https://localhost:8080/"
        },
        "id": "BK36iaeAvs5l",
        "outputId": "dbacbc28-c668-41de-c5df-60f3324d8e57"
      },
      "execution_count": 3,
      "outputs": [
        {
          "output_type": "stream",
          "name": "stdout",
          "text": [
            "-1\n"
          ]
        }
      ]
    },
    {
      "cell_type": "markdown",
      "source": [
        "Factroial of a number"
      ],
      "metadata": {
        "id": "h6OUYS3C2yjH"
      }
    },
    {
      "cell_type": "code",
      "source": [
        "def factorial(n):\n",
        "  if n==1:\n",
        "    return 1\n",
        "  else:\n",
        "    return n*factorial(n-1)\n",
        "factorial(5)"
      ],
      "metadata": {
        "colab": {
          "base_uri": "https://localhost:8080/"
        },
        "id": "SANzz4xQouVK",
        "outputId": "0156ebcd-29fb-42eb-b701-95092bd50b97"
      },
      "execution_count": 4,
      "outputs": [
        {
          "output_type": "execute_result",
          "data": {
            "text/plain": [
              "120"
            ]
          },
          "metadata": {},
          "execution_count": 4
        }
      ]
    },
    {
      "cell_type": "markdown",
      "source": [
        "Sum of Digits"
      ],
      "metadata": {
        "id": "QWOI3rOiJhNa"
      }
    },
    {
      "cell_type": "code",
      "source": [
        "def sum_of_digit(n):\n",
        "  if n==0:\n",
        "    return 0\n",
        "  else:\n",
        "    return n%10+sum_of_digit(n//10)\n",
        "sum_of_digit(1342)"
      ],
      "metadata": {
        "id": "3HtBmmTTpBOn",
        "colab": {
          "base_uri": "https://localhost:8080/"
        },
        "outputId": "f55565b2-0eea-48e6-836c-72643e5dd826"
      },
      "execution_count": 5,
      "outputs": [
        {
          "output_type": "execute_result",
          "data": {
            "text/plain": [
              "10"
            ]
          },
          "metadata": {},
          "execution_count": 5
        }
      ]
    },
    {
      "cell_type": "markdown",
      "source": [
        "Product of Digits"
      ],
      "metadata": {
        "id": "dPq7Id1NLGg9"
      }
    },
    {
      "cell_type": "code",
      "source": [
        "def product_of_digits(n):\n",
        "  if n==0:\n",
        "    return 1\n",
        "  return n%10*product_of_digits(n//10)\n",
        "product_of_digits(1342)"
      ],
      "metadata": {
        "colab": {
          "base_uri": "https://localhost:8080/"
        },
        "id": "ulQUt5MeI-ND",
        "outputId": "1ae00f6e-138f-4d1b-a02e-982a2fda0d1a"
      },
      "execution_count": 6,
      "outputs": [
        {
          "output_type": "execute_result",
          "data": {
            "text/plain": [
              "24"
            ]
          },
          "metadata": {},
          "execution_count": 6
        }
      ]
    },
    {
      "cell_type": "markdown",
      "source": [
        "Reverse a number"
      ],
      "metadata": {
        "id": "gqxQxQxtTDyF"
      }
    },
    {
      "cell_type": "code",
      "source": [
        "def reverse_num(n):\n",
        "  if n<10:\n",
        "    return n\n",
        "  length = len(str(n))-1\n",
        "  return (n%10)*(10**length)+reverse_num(n//10)\n",
        "reverse_num(6789)"
      ],
      "metadata": {
        "colab": {
          "base_uri": "https://localhost:8080/"
        },
        "id": "U5hajJAcLUBG",
        "outputId": "ae474cf4-1618-4763-85d6-086f7c654a2f"
      },
      "execution_count": 7,
      "outputs": [
        {
          "output_type": "execute_result",
          "data": {
            "text/plain": [
              "9876"
            ]
          },
          "metadata": {},
          "execution_count": 7
        }
      ]
    },
    {
      "cell_type": "markdown",
      "source": [
        "Palindrome"
      ],
      "metadata": {
        "id": "r_sTqCADa4-C"
      }
    },
    {
      "cell_type": "code",
      "source": [
        "def palindrome(start,end,word):\n",
        "  if(start>=end):\n",
        "    return True\n",
        "  if word[start]!=word[end]:\n",
        "    return False\n",
        "  return palindrome(start+1,end-1,word)\n",
        "palindrome(0,len(\"madam\")-1,\"madam\")"
      ],
      "metadata": {
        "colab": {
          "base_uri": "https://localhost:8080/"
        },
        "id": "4hmjxeUKOqQt",
        "outputId": "61b95bdb-cff1-4c9b-8e1f-7febd124d8be"
      },
      "execution_count": 8,
      "outputs": [
        {
          "output_type": "execute_result",
          "data": {
            "text/plain": [
              "True"
            ]
          },
          "metadata": {},
          "execution_count": 8
        }
      ]
    },
    {
      "cell_type": "markdown",
      "source": [
        "Count number of zeroes in a number"
      ],
      "metadata": {
        "id": "pNu-Zd1KbAnk"
      }
    },
    {
      "cell_type": "code",
      "source": [
        "def count(num):\n",
        "  count_zeroes = 0\n",
        "  if num%10==0:\n",
        "    count_zeroes+=1\n",
        "  if num//10==0:\n",
        "    return count_zeroes\n",
        "  return count_zeroes+count(num//10)\n",
        "count(100203)"
      ],
      "metadata": {
        "colab": {
          "base_uri": "https://localhost:8080/"
        },
        "id": "uJmNFB0gWpiW",
        "outputId": "0793a32d-6779-4367-9688-3c89db8decd0"
      },
      "execution_count": 9,
      "outputs": [
        {
          "output_type": "execute_result",
          "data": {
            "text/plain": [
              "3"
            ]
          },
          "metadata": {},
          "execution_count": 9
        }
      ]
    },
    {
      "cell_type": "markdown",
      "source": [
        "Array is Sorted or Not"
      ],
      "metadata": {
        "id": "PEQxM8FUpf5e"
      }
    },
    {
      "cell_type": "code",
      "source": [
        "def sort(arr,start):\n",
        "  if(start+1>=len(arr)):\n",
        "    return True\n",
        "  elif(arr[start]>arr[start+1]):\n",
        "    return False\n",
        "  return sort(arr,start+1)\n",
        "\n",
        "arr = [1,2,3,0]\n",
        "sort(arr,0)"
      ],
      "metadata": {
        "colab": {
          "base_uri": "https://localhost:8080/"
        },
        "id": "efr9BuH1cIC8",
        "outputId": "47e94db1-8b56-4c2d-e90e-660089034606"
      },
      "execution_count": 10,
      "outputs": [
        {
          "output_type": "execute_result",
          "data": {
            "text/plain": [
              "False"
            ]
          },
          "metadata": {},
          "execution_count": 10
        }
      ]
    },
    {
      "cell_type": "markdown",
      "source": [
        "LinearSearch"
      ],
      "metadata": {
        "id": "vHwLAy7OtH-A"
      }
    },
    {
      "cell_type": "code",
      "source": [
        "def linearSearch(arr,index,target):\n",
        "  if index>=len(arr):\n",
        "    return -1\n",
        "  elif arr[index] == target:\n",
        "    return index\n",
        "  return linearSearch(arr,index+1,target)\n",
        "\n",
        "arr=[1,2,45,6,7]\n",
        "index = 0\n",
        "target = 45\n",
        "linearSearch(arr,index,target)"
      ],
      "metadata": {
        "colab": {
          "base_uri": "https://localhost:8080/"
        },
        "id": "V9fYjX0IrN-D",
        "outputId": "7cf7fab2-6ae5-4357-b5dc-094e9c1b43e8"
      },
      "execution_count": 11,
      "outputs": [
        {
          "output_type": "execute_result",
          "data": {
            "text/plain": [
              "2"
            ]
          },
          "metadata": {},
          "execution_count": 11
        }
      ]
    },
    {
      "cell_type": "markdown",
      "source": [
        "Return a list in LinearSearch"
      ],
      "metadata": {
        "id": "u06T5LtPFz-E"
      }
    },
    {
      "cell_type": "code",
      "source": [
        "def linearSearch(arr,index,target,ls):\n",
        "  if index>=len(arr):\n",
        "    return ls\n",
        "  elif arr[index]==target:\n",
        "    ls.append(index)\n",
        "  return linearSearch(arr,index+1,target,ls)\n",
        "\n",
        "arr = [1,2,3,4,4,4,5,6]\n",
        "index = 0\n",
        "target = 4\n",
        "ls = []\n",
        "linearSearch(arr,index,target,ls)"
      ],
      "metadata": {
        "id": "kHUpbDCSt_sC",
        "colab": {
          "base_uri": "https://localhost:8080/"
        },
        "outputId": "4023a040-50b1-4990-a522-67a3f9479df5"
      },
      "execution_count": 12,
      "outputs": [
        {
          "output_type": "execute_result",
          "data": {
            "text/plain": [
              "[3, 4, 5]"
            ]
          },
          "metadata": {},
          "execution_count": 12
        }
      ]
    },
    {
      "cell_type": "markdown",
      "source": [
        "Return the list without passing the arguement"
      ],
      "metadata": {
        "id": "GlblWLhbJ-Ci"
      }
    },
    {
      "cell_type": "code",
      "source": [
        "def linearSearch(arr,index,target):\n",
        "\n",
        "  if index>=len(arr):\n",
        "    return []\n",
        "  elif arr[index]==target:\n",
        "    return [index]+linearSearch(arr,index+1,target)\n",
        "  return linearSearch(arr,index+1,target)\n",
        "\n",
        "arr = [1,2,3,4,4,4,5,6]\n",
        "index = 0\n",
        "target = 4\n",
        "linearSearch(arr,index,target)"
      ],
      "metadata": {
        "colab": {
          "base_uri": "https://localhost:8080/"
        },
        "id": "UAFsfXURGd-j",
        "outputId": "30b9e32b-00b9-469a-da98-4093a9609455"
      },
      "execution_count": 13,
      "outputs": [
        {
          "output_type": "execute_result",
          "data": {
            "text/plain": [
              "[3, 4, 5]"
            ]
          },
          "metadata": {},
          "execution_count": 13
        }
      ]
    },
    {
      "cell_type": "markdown",
      "source": [
        "#27/8"
      ],
      "metadata": {
        "id": "z0WTMGs0rFJY"
      }
    },
    {
      "cell_type": "markdown",
      "source": [
        "Pattern"
      ],
      "metadata": {
        "id": "35-3yyEitfyp"
      }
    },
    {
      "cell_type": "code",
      "source": [
        "def pattern(row,column):\n",
        "  if (row==0):\n",
        "    return\n",
        "  if(column<row):\n",
        "    print(\"*\",end=\" \")\n",
        "    pattern(row,column+1)\n",
        "  else:\n",
        "    print()\n",
        "    pattern(row-1,0)\n",
        "pattern(6,6)"
      ],
      "metadata": {
        "id": "3CDQHt8wAKmO",
        "colab": {
          "base_uri": "https://localhost:8080/"
        },
        "outputId": "73f0be36-ea39-4494-e388-b551051b50bf"
      },
      "execution_count": 14,
      "outputs": [
        {
          "output_type": "stream",
          "name": "stdout",
          "text": [
            "\n",
            "* * * * * \n",
            "* * * * \n",
            "* * * \n",
            "* * \n",
            "* \n"
          ]
        }
      ]
    },
    {
      "cell_type": "markdown",
      "source": [
        "Bubble Sort"
      ],
      "metadata": {
        "id": "R4z6CR4cClSe"
      }
    },
    {
      "cell_type": "code",
      "source": [
        "def bubbleSort(arr,r,c):\n",
        "  if(r==0):\n",
        "    return\n",
        "  if(c<r-1):\n",
        "    if(arr[c]>arr[c+1]):\n",
        "      arr[c],arr[c+1]=arr[c+1],arr[c]\n",
        "      bubbleSort(arr,r,c+1)\n",
        "  else:\n",
        "    bubbleSort(arr,r-1,c=0)\n",
        "\n",
        "arr = [4,3,2,1]\n",
        "bubbleSort(arr,len(arr),0)\n",
        "print(arr)\n"
      ],
      "metadata": {
        "colab": {
          "base_uri": "https://localhost:8080/"
        },
        "id": "mfaXveYhuasz",
        "outputId": "27f28aed-733b-4831-e4ef-293b0fb203a6"
      },
      "execution_count": 15,
      "outputs": [
        {
          "output_type": "stream",
          "name": "stdout",
          "text": [
            "[1, 2, 3, 4]\n"
          ]
        }
      ]
    },
    {
      "cell_type": "markdown",
      "source": [
        "Selection Sort"
      ],
      "metadata": {
        "id": "noiz3XrzCnCi"
      }
    },
    {
      "cell_type": "code",
      "source": [
        "def SelectionSort(arr,r,c):\n",
        "\n",
        "  if(r==0):\n",
        "    return\n",
        "  if(c<r-1):\n",
        "    max_ = arr.index(max(arr[c:r+1]))\n",
        "    arr[max_],arr[r] = arr[r],arr[max_]\n",
        "    SelectionSort(arr,r-1,c)\n",
        "\n",
        "arr = [8, 5, 4, 3, 6, 7, 1]\n",
        "SelectionSort(arr,len(arr)-1,0)\n",
        "print(arr)"
      ],
      "metadata": {
        "colab": {
          "base_uri": "https://localhost:8080/"
        },
        "id": "9m_OlsC7za9r",
        "outputId": "292308c4-07b6-46ce-da18-82c4a07a064f"
      },
      "execution_count": 16,
      "outputs": [
        {
          "output_type": "stream",
          "name": "stdout",
          "text": [
            "[1, 3, 4, 5, 6, 7, 8]\n"
          ]
        }
      ]
    },
    {
      "cell_type": "markdown",
      "source": [
        "MergeSort"
      ],
      "metadata": {
        "id": "-Uf4ztvANzQV"
      }
    },
    {
      "cell_type": "code",
      "source": [
        "def mergeSort(arr):\n",
        "\n",
        "  if len(arr)<=1:\n",
        "    return arr\n",
        "\n",
        "  mid = len(arr)//2\n",
        "\n",
        "  left = mergeSort(arr[:mid])\n",
        "  right = mergeSort(arr[mid:])\n",
        "\n",
        "  return merge(left,right)\n",
        "\n",
        "\n",
        "def merge(first,second):\n",
        "  i,j=0,0\n",
        "  mix = []\n",
        "\n",
        "  while(i<len(first) and j<len(second)):\n",
        "    if first[i]<=second[j]:\n",
        "      mix.append(first[i])\n",
        "      i+=1\n",
        "    else:\n",
        "      mix.append(second[j])\n",
        "      j+=1\n",
        "\n",
        "  while(i<len(first)):\n",
        "    mix.append(first[i])\n",
        "    i+=1\n",
        "\n",
        "  while(j<len(second)):\n",
        "    mix.append(second[j])\n",
        "    j+=1\n",
        "  return mix\n",
        "\n",
        "arr = [5,3,4,5,6,7]\n",
        "ans = mergeSort(arr)\n",
        "print(ans)"
      ],
      "metadata": {
        "colab": {
          "base_uri": "https://localhost:8080/"
        },
        "id": "dIIZo1Sb-0B7",
        "outputId": "36f248ac-d9a8-41e9-adcf-2b127afa82a5"
      },
      "execution_count": 17,
      "outputs": [
        {
          "output_type": "stream",
          "name": "stdout",
          "text": [
            "[3, 4, 5, 5, 6, 7]\n"
          ]
        }
      ]
    },
    {
      "cell_type": "markdown",
      "source": [
        "QuickSort"
      ],
      "metadata": {
        "id": "RhdSwM4GRUPu"
      }
    },
    {
      "cell_type": "code",
      "source": [
        "def quickSort(arr,low,high):\n",
        "\n",
        "  if low>=high:\n",
        "    return\n",
        "\n",
        "  s = low\n",
        "  e = high\n",
        "  m = (s+e)//2\n",
        "  pivot = arr[m]\n",
        "\n",
        "  while(s<=e):\n",
        "    while(arr[s]<pivot):\n",
        "      s+=1\n",
        "    while(arr[e]>pivot):\n",
        "      e-=1\n",
        "    if(s<=e):\n",
        "      arr[s],arr[e] = arr[e],arr[s]\n",
        "      s+=1\n",
        "      e-=1\n",
        "  quickSort(arr,low,e)\n",
        "  quickSort(arr,s,high)\n",
        "\n",
        "arr = [4,5,6,2,1,4,7,8]\n",
        "quickSort(arr,0,len(arr)-1)\n",
        "print(arr)"
      ],
      "metadata": {
        "colab": {
          "base_uri": "https://localhost:8080/"
        },
        "id": "GKaFVvtwKdgO",
        "outputId": "3277702e-076a-4f3f-c9d6-41eea31baeac"
      },
      "execution_count": 18,
      "outputs": [
        {
          "output_type": "stream",
          "name": "stdout",
          "text": [
            "[1, 2, 4, 4, 5, 6, 7, 8]\n"
          ]
        }
      ]
    },
    {
      "cell_type": "markdown",
      "source": [
        "#28/8/24"
      ],
      "metadata": {
        "id": "o8ochKGCfBE-"
      }
    },
    {
      "cell_type": "markdown",
      "source": [
        "#String"
      ],
      "metadata": {
        "id": "8-Ssw_z7Tg6S"
      }
    },
    {
      "cell_type": "markdown",
      "source": [
        "Question : str : baccad , the new String should be ans : bccd , you need to remove a from that"
      ],
      "metadata": {
        "id": "_KtXKbuCTyJy"
      }
    },
    {
      "cell_type": "markdown",
      "source": [
        "1 :"
      ],
      "metadata": {
        "id": "Q3L4U_oTfYRq"
      }
    },
    {
      "cell_type": "code",
      "source": [
        "\n",
        "def func(String,i):\n",
        "\n",
        "  _str = String\n",
        "\n",
        "  if i>=len(String):\n",
        "    return \"\"\n",
        "\n",
        "  s = _str[i]\n",
        "\n",
        "  if s == \"a\":\n",
        "    return func(String,i+1)\n",
        "  else:\n",
        "    return s+func(String,i+1)\n",
        "\n",
        "String = \"bccad\"\n",
        "func(String,0)\n",
        "\n",
        "\n"
      ],
      "metadata": {
        "colab": {
          "base_uri": "https://localhost:8080/",
          "height": 35
        },
        "id": "sNuoVuUyTbxn",
        "outputId": "5890af20-8641-41ff-cac8-efb333525d30"
      },
      "execution_count": 19,
      "outputs": [
        {
          "output_type": "execute_result",
          "data": {
            "text/plain": [
              "'bccd'"
            ],
            "application/vnd.google.colaboratory.intrinsic+json": {
              "type": "string"
            }
          },
          "metadata": {},
          "execution_count": 19
        }
      ]
    },
    {
      "cell_type": "markdown",
      "source": [
        "2 : Skip apple word"
      ],
      "metadata": {
        "id": "btLwquQDfclH"
      }
    },
    {
      "cell_type": "code",
      "source": [
        "def func(String,i):\n",
        "\n",
        "  _str = String\n",
        "  _len = len(String)\n",
        "\n",
        "  if i>=len(_str):\n",
        "    return \"\"\n",
        "\n",
        "  element = _str[i]\n",
        "\n",
        "  if i<=(_len-5):\n",
        "    s = _str[i:i+5]\n",
        "    if s == \"apple\":\n",
        "      return func(_str,i+5)\n",
        "    else:\n",
        "      return element+func(_str,i+1)\n",
        "  else:\n",
        "    return element+func(_str,i+1)\n",
        "\n",
        "String = \"bccappleer\"\n",
        "func(String,0)\n"
      ],
      "metadata": {
        "colab": {
          "base_uri": "https://localhost:8080/",
          "height": 35
        },
        "id": "j_THfMSFVP5k",
        "outputId": "cd619717-8747-488d-d2db-175bc66e155f"
      },
      "execution_count": 20,
      "outputs": [
        {
          "output_type": "execute_result",
          "data": {
            "text/plain": [
              "'bccer'"
            ],
            "application/vnd.google.colaboratory.intrinsic+json": {
              "type": "string"
            }
          },
          "metadata": {},
          "execution_count": 20
        }
      ]
    },
    {
      "cell_type": "markdown",
      "source": [
        "#30/8"
      ],
      "metadata": {
        "id": "j4TK3Qo2fjqw"
      }
    },
    {
      "cell_type": "markdown",
      "source": [
        "Subsequence : Print all possible subsequence for the String abc"
      ],
      "metadata": {
        "id": "sWqmOpwTfa5x"
      }
    },
    {
      "cell_type": "code",
      "source": [
        "def subsequence(sub,String):\n",
        "\n",
        "  if String == \"\":\n",
        "    print(sub)\n",
        "    return\n",
        "\n",
        "  current = String[0]\n",
        "\n",
        "  subsequence(sub+current,String[1:])\n",
        "  subsequence(sub,String[1:])\n",
        "subsequence(\"\",\"abc\")"
      ],
      "metadata": {
        "colab": {
          "base_uri": "https://localhost:8080/"
        },
        "id": "6BnHAzeefrtf",
        "outputId": "e3b7e44d-571f-4334-8132-1ad984863f13"
      },
      "execution_count": 29,
      "outputs": [
        {
          "output_type": "stream",
          "name": "stdout",
          "text": [
            "abc\n",
            "ab\n",
            "ac\n",
            "a\n",
            "bc\n",
            "b\n",
            "c\n",
            "\n"
          ]
        }
      ]
    },
    {
      "cell_type": "code",
      "source": [],
      "metadata": {
        "id": "DQ54xMQjgfTS"
      },
      "execution_count": null,
      "outputs": []
    }
  ]
}