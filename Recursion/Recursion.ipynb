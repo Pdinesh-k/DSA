{
  "nbformat": 4,
  "nbformat_minor": 0,
  "metadata": {
    "colab": {
      "provenance": []
    },
    "kernelspec": {
      "name": "python3",
      "display_name": "Python 3"
    },
    "language_info": {
      "name": "python"
    }
  },
  "cells": [
    {
      "cell_type": "code",
      "source": [
        "def func(num):\n",
        "  if(num==5):\n",
        "    return 5\n",
        "  else:\n",
        "    print(num)\n",
        "    return func(num+1)\n",
        "func(1)"
      ],
      "metadata": {
        "colab": {
          "base_uri": "https://localhost:8080/"
        },
        "id": "G5ypXK5wdh3q",
        "outputId": "fd2906f8-3b30-47c7-e617-692e5496ea6d"
      },
      "execution_count": null,
      "outputs": [
        {
          "output_type": "stream",
          "name": "stdout",
          "text": [
            "1\n",
            "2\n",
            "3\n",
            "4\n"
          ]
        },
        {
          "output_type": "execute_result",
          "data": {
            "text/plain": [
              "5"
            ]
          },
          "metadata": {},
          "execution_count": 24
        }
      ]
    },
    {
      "cell_type": "markdown",
      "source": [
        "Fibanocci Numbers"
      ],
      "metadata": {
        "id": "N6hGIy5JvUZB"
      }
    },
    {
      "cell_type": "code",
      "source": [
        "\n",
        "def fib(n):\n",
        "  if n<2:\n",
        "    return n\n",
        "  else:\n",
        "    return fib(n-1)+fib(n-2)\n",
        "\n",
        "fib(7)\n"
      ],
      "metadata": {
        "colab": {
          "base_uri": "https://localhost:8080/"
        },
        "id": "5YTuBFqBeEU7",
        "outputId": "be8227b0-8e10-436e-a65d-976c1b4723c2"
      },
      "execution_count": null,
      "outputs": [
        {
          "output_type": "execute_result",
          "data": {
            "text/plain": [
              "13"
            ]
          },
          "metadata": {},
          "execution_count": 25
        }
      ]
    },
    {
      "cell_type": "markdown",
      "source": [
        "BinarySearch"
      ],
      "metadata": {
        "id": "0JMNd4g76nyc"
      }
    },
    {
      "cell_type": "code",
      "source": [
        "def binarySearch(arr,target,start,end):\n",
        "    mid = (start+end)//2\n",
        "    if start>end:\n",
        "      return -1\n",
        "    if(arr[mid]==target):\n",
        "      return mid\n",
        "    elif arr[mid]<target:\n",
        "      return binarySearch(arr,target,mid+1,end)\n",
        "    else:\n",
        "      return binarySearch(arr,target,start,mid-1)\n",
        "arr=[1,2,3,4,5,6,7,10,11]\n",
        "print(binarySearch(arr,100,0,(len(arr)-1)))"
      ],
      "metadata": {
        "colab": {
          "base_uri": "https://localhost:8080/"
        },
        "id": "BK36iaeAvs5l",
        "outputId": "7ad6034d-16e8-4be1-b995-1defda467d34"
      },
      "execution_count": null,
      "outputs": [
        {
          "output_type": "stream",
          "name": "stdout",
          "text": [
            "-1\n"
          ]
        }
      ]
    },
    {
      "cell_type": "markdown",
      "source": [
        "Factroial of a number"
      ],
      "metadata": {
        "id": "h6OUYS3C2yjH"
      }
    },
    {
      "cell_type": "code",
      "source": [
        "def factorial(n):\n",
        "  if n==1:\n",
        "    return 1\n",
        "  else:\n",
        "    return n*factorial(n-1)\n",
        "factorial(5)"
      ],
      "metadata": {
        "colab": {
          "base_uri": "https://localhost:8080/"
        },
        "id": "SANzz4xQouVK",
        "outputId": "52a690ea-3e79-4a92-c770-8f963d178c97"
      },
      "execution_count": null,
      "outputs": [
        {
          "output_type": "execute_result",
          "data": {
            "text/plain": [
              "120"
            ]
          },
          "metadata": {},
          "execution_count": 27
        }
      ]
    },
    {
      "cell_type": "markdown",
      "source": [
        "Sum of Digits"
      ],
      "metadata": {
        "id": "QWOI3rOiJhNa"
      }
    },
    {
      "cell_type": "code",
      "source": [
        "def sum_of_digit(n):\n",
        "  if n==0:\n",
        "    return 0\n",
        "  else:\n",
        "    return n%10+sum_of_digit(n//10)\n",
        "sum_of_digit(1342)"
      ],
      "metadata": {
        "id": "3HtBmmTTpBOn",
        "colab": {
          "base_uri": "https://localhost:8080/"
        },
        "outputId": "c6c19e4b-b780-4cd9-c70b-67a8d9bd125d"
      },
      "execution_count": null,
      "outputs": [
        {
          "output_type": "execute_result",
          "data": {
            "text/plain": [
              "10"
            ]
          },
          "metadata": {},
          "execution_count": 28
        }
      ]
    },
    {
      "cell_type": "markdown",
      "source": [
        "Product of Digits"
      ],
      "metadata": {
        "id": "dPq7Id1NLGg9"
      }
    },
    {
      "cell_type": "code",
      "source": [
        "def product_of_digits(n):\n",
        "  if n==0:\n",
        "    return 1\n",
        "  return n%10*product_of_digits(n//10)\n",
        "product_of_digits(1342)"
      ],
      "metadata": {
        "colab": {
          "base_uri": "https://localhost:8080/"
        },
        "id": "ulQUt5MeI-ND",
        "outputId": "74c1a412-51e5-46eb-ec88-22dfe0857599"
      },
      "execution_count": null,
      "outputs": [
        {
          "output_type": "execute_result",
          "data": {
            "text/plain": [
              "24"
            ]
          },
          "metadata": {},
          "execution_count": 29
        }
      ]
    },
    {
      "cell_type": "markdown",
      "source": [
        "Reverse a number"
      ],
      "metadata": {
        "id": "gqxQxQxtTDyF"
      }
    },
    {
      "cell_type": "code",
      "source": [
        "def reverse_num(n):\n",
        "  if n<10:\n",
        "    return n\n",
        "  length = len(str(n))-1\n",
        "  return (n%10)*(10**length)+reverse_num(n//10)\n",
        "reverse_num(6789)"
      ],
      "metadata": {
        "colab": {
          "base_uri": "https://localhost:8080/"
        },
        "id": "U5hajJAcLUBG",
        "outputId": "ac7465bb-1f80-428a-e0ff-9e593a5d7407"
      },
      "execution_count": null,
      "outputs": [
        {
          "output_type": "execute_result",
          "data": {
            "text/plain": [
              "9876"
            ]
          },
          "metadata": {},
          "execution_count": 30
        }
      ]
    },
    {
      "cell_type": "markdown",
      "source": [
        "Palindrome"
      ],
      "metadata": {
        "id": "r_sTqCADa4-C"
      }
    },
    {
      "cell_type": "code",
      "source": [
        "def palindrome(start,end,word):\n",
        "  if(start>=end):\n",
        "    return True\n",
        "  if word[start]!=word[end]:\n",
        "    return False\n",
        "  return palindrome(start+1,end-1,word)\n",
        "palindrome(0,len(\"madam\")-1,\"madam\")"
      ],
      "metadata": {
        "colab": {
          "base_uri": "https://localhost:8080/"
        },
        "id": "4hmjxeUKOqQt",
        "outputId": "346abf42-6ea1-4662-ae6d-43c4fb02625c"
      },
      "execution_count": null,
      "outputs": [
        {
          "output_type": "execute_result",
          "data": {
            "text/plain": [
              "True"
            ]
          },
          "metadata": {},
          "execution_count": 31
        }
      ]
    },
    {
      "cell_type": "markdown",
      "source": [
        "Count number of zeroes in a number"
      ],
      "metadata": {
        "id": "pNu-Zd1KbAnk"
      }
    },
    {
      "cell_type": "code",
      "source": [
        "def count(num):\n",
        "  count_zeroes = 0\n",
        "  if num%10==0:\n",
        "    count_zeroes+=1\n",
        "  if num//10==0:\n",
        "    return count_zeroes\n",
        "  return count_zeroes+count(num//10)\n",
        "count(100203)"
      ],
      "metadata": {
        "colab": {
          "base_uri": "https://localhost:8080/"
        },
        "id": "uJmNFB0gWpiW",
        "outputId": "285d37e8-8a8c-4e93-d8e6-20a3c4c80488"
      },
      "execution_count": null,
      "outputs": [
        {
          "output_type": "execute_result",
          "data": {
            "text/plain": [
              "3"
            ]
          },
          "metadata": {},
          "execution_count": 32
        }
      ]
    },
    {
      "cell_type": "markdown",
      "source": [
        "Array is Sorted or Not"
      ],
      "metadata": {
        "id": "PEQxM8FUpf5e"
      }
    },
    {
      "cell_type": "code",
      "source": [
        "def sort(arr,start):\n",
        "  if(start+1>=len(arr)):\n",
        "    return True\n",
        "  elif(arr[start]>arr[start+1]):\n",
        "    return False\n",
        "  return sort(arr,start+1)\n",
        "\n",
        "arr = [1,2,3,0]\n",
        "sort(arr,0)"
      ],
      "metadata": {
        "colab": {
          "base_uri": "https://localhost:8080/"
        },
        "id": "efr9BuH1cIC8",
        "outputId": "79cde8d0-faef-40a1-acd7-24e38e4b26cc"
      },
      "execution_count": null,
      "outputs": [
        {
          "output_type": "execute_result",
          "data": {
            "text/plain": [
              "False"
            ]
          },
          "metadata": {},
          "execution_count": 33
        }
      ]
    },
    {
      "cell_type": "markdown",
      "source": [
        "LinearSearch"
      ],
      "metadata": {
        "id": "vHwLAy7OtH-A"
      }
    },
    {
      "cell_type": "code",
      "source": [
        "def linearSearch(arr,index,target):\n",
        "  if index>=len(arr):\n",
        "    return -1\n",
        "  elif arr[index] == target:\n",
        "    return index\n",
        "  return linearSearch(arr,index+1,target)\n",
        "\n",
        "arr=[1,2,45,6,7]\n",
        "index = 0\n",
        "target = 45\n",
        "linearSearch(arr,index,target)"
      ],
      "metadata": {
        "colab": {
          "base_uri": "https://localhost:8080/"
        },
        "id": "V9fYjX0IrN-D",
        "outputId": "5ae272cb-9eda-4218-8929-819e35be0324"
      },
      "execution_count": null,
      "outputs": [
        {
          "output_type": "execute_result",
          "data": {
            "text/plain": [
              "2"
            ]
          },
          "metadata": {},
          "execution_count": 34
        }
      ]
    },
    {
      "cell_type": "markdown",
      "source": [
        "Return a list in LinearSearch"
      ],
      "metadata": {
        "id": "u06T5LtPFz-E"
      }
    },
    {
      "cell_type": "code",
      "source": [
        "def linearSearch(arr,index,target,ls):\n",
        "  if index>=len(arr):\n",
        "    return ls\n",
        "  elif arr[index]==target:\n",
        "    ls.append(index)\n",
        "  return linearSearch(arr,index+1,target,ls)\n",
        "\n",
        "arr = [1,2,3,4,4,4,5,6]\n",
        "index = 0\n",
        "target = 4\n",
        "ls = []\n",
        "linearSearch(arr,index,target,ls)"
      ],
      "metadata": {
        "id": "kHUpbDCSt_sC",
        "colab": {
          "base_uri": "https://localhost:8080/"
        },
        "outputId": "1c9c92e9-5903-458f-fa23-55b16207f393"
      },
      "execution_count": null,
      "outputs": [
        {
          "output_type": "execute_result",
          "data": {
            "text/plain": [
              "[3, 4, 5]"
            ]
          },
          "metadata": {},
          "execution_count": 35
        }
      ]
    },
    {
      "cell_type": "markdown",
      "source": [
        "Return the list without passing the arguement"
      ],
      "metadata": {
        "id": "GlblWLhbJ-Ci"
      }
    },
    {
      "cell_type": "code",
      "source": [
        "def linearSearch(arr,index,target):\n",
        "\n",
        "  if index>=len(arr):\n",
        "    return []\n",
        "  elif arr[index]==target:\n",
        "    return [index]+linearSearch(arr,index+1,target)\n",
        "  return linearSearch(arr,index+1,target)\n",
        "\n",
        "arr = [1,2,3,4,4,4,5,6]\n",
        "index = 0\n",
        "target = 4\n",
        "linearSearch(arr,index,target)"
      ],
      "metadata": {
        "colab": {
          "base_uri": "https://localhost:8080/"
        },
        "id": "UAFsfXURGd-j",
        "outputId": "c6d9af51-5c0b-425b-ef94-4d0a12304126"
      },
      "execution_count": null,
      "outputs": [
        {
          "output_type": "execute_result",
          "data": {
            "text/plain": [
              "[3, 4, 5]"
            ]
          },
          "metadata": {},
          "execution_count": 36
        }
      ]
    },
    {
      "cell_type": "markdown",
      "source": [
        "#27/8"
      ],
      "metadata": {
        "id": "z0WTMGs0rFJY"
      }
    },
    {
      "cell_type": "markdown",
      "source": [
        "Pattern"
      ],
      "metadata": {
        "id": "35-3yyEitfyp"
      }
    },
    {
      "cell_type": "code",
      "source": [
        "def pattern(row,column):\n",
        "  if (row==0):\n",
        "    return\n",
        "  if(column<row):\n",
        "    print(\"*\",end=\" \")\n",
        "    pattern(row,column+1)\n",
        "  else:\n",
        "    print()\n",
        "    pattern(row-1,0)\n",
        "pattern(6,6)"
      ],
      "metadata": {
        "id": "3CDQHt8wAKmO",
        "colab": {
          "base_uri": "https://localhost:8080/"
        },
        "outputId": "daf3ea90-7736-4e21-cb25-72ccd9d706a6"
      },
      "execution_count": null,
      "outputs": [
        {
          "output_type": "stream",
          "name": "stdout",
          "text": [
            "\n",
            "* * * * * \n",
            "* * * * \n",
            "* * * \n",
            "* * \n",
            "* \n"
          ]
        }
      ]
    },
    {
      "cell_type": "markdown",
      "source": [
        "Bubble Sort"
      ],
      "metadata": {
        "id": "R4z6CR4cClSe"
      }
    },
    {
      "cell_type": "code",
      "source": [
        "def bubbleSort(arr,r,c):\n",
        "  if(r==0):\n",
        "    return\n",
        "  if(c<r-1):\n",
        "    if(arr[c]>arr[c+1]):\n",
        "      arr[c],arr[c+1]=arr[c+1],arr[c]\n",
        "      bubbleSort(arr,r,c+1)\n",
        "  else:\n",
        "    bubbleSort(arr,r-1,c=0)\n",
        "\n",
        "arr = [4,3,2,1]\n",
        "bubbleSort(arr,len(arr),0)\n",
        "print(arr)\n"
      ],
      "metadata": {
        "colab": {
          "base_uri": "https://localhost:8080/"
        },
        "id": "mfaXveYhuasz",
        "outputId": "e068ad5d-3626-422c-d019-8b43caf59f98"
      },
      "execution_count": null,
      "outputs": [
        {
          "output_type": "stream",
          "name": "stdout",
          "text": [
            "[1, 2, 3, 4]\n"
          ]
        }
      ]
    },
    {
      "cell_type": "markdown",
      "source": [
        "Selection Sort"
      ],
      "metadata": {
        "id": "noiz3XrzCnCi"
      }
    },
    {
      "cell_type": "code",
      "source": [
        "def SelectionSort(arr,r,c):\n",
        "\n",
        "  if(r==0):\n",
        "    return\n",
        "  if(c<r-1):\n",
        "    max_ = arr.index(max(arr[c:r+1]))\n",
        "    arr[max_],arr[r] = arr[r],arr[max_]\n",
        "    SelectionSort(arr,r-1,c)\n",
        "\n",
        "arr = [8, 5, 4, 3, 6, 7, 1]\n",
        "SelectionSort(arr,len(arr)-1,0)\n",
        "print(arr)"
      ],
      "metadata": {
        "colab": {
          "base_uri": "https://localhost:8080/"
        },
        "id": "9m_OlsC7za9r",
        "outputId": "997f5598-92ae-4fbd-8bd3-6fd37fc56db6"
      },
      "execution_count": null,
      "outputs": [
        {
          "output_type": "stream",
          "name": "stdout",
          "text": [
            "[1, 3, 4, 5, 6, 7, 8]\n"
          ]
        }
      ]
    },
    {
      "cell_type": "markdown",
      "source": [
        "MergeSort"
      ],
      "metadata": {
        "id": "-Uf4ztvANzQV"
      }
    },
    {
      "cell_type": "code",
      "source": [
        "def mergeSort(arr):\n",
        "\n",
        "  if len(arr)<=1:\n",
        "    return arr\n",
        "\n",
        "  mid = len(arr)//2\n",
        "\n",
        "  left = mergeSort(arr[:mid])\n",
        "  right = mergeSort(arr[mid:])\n",
        "\n",
        "  return merge(left,right)\n",
        "\n",
        "\n",
        "def merge(first,second):\n",
        "  i,j=0,0\n",
        "  mix = []\n",
        "\n",
        "  while(i<len(first) and j<len(second)):\n",
        "    if first[i]<=second[j]:\n",
        "      mix.append(first[i])\n",
        "      i+=1\n",
        "    else:\n",
        "      mix.append(second[j])\n",
        "      j+=1\n",
        "\n",
        "  while(i<len(first)):\n",
        "    mix.append(first[i])\n",
        "    i+=1\n",
        "\n",
        "  while(j<len(second)):\n",
        "    mix.append(second[j])\n",
        "    j+=1\n",
        "  return mix\n",
        "\n",
        "arr = [5,3,4,5,6,7]\n",
        "ans = mergeSort(arr)\n",
        "print(ans)"
      ],
      "metadata": {
        "colab": {
          "base_uri": "https://localhost:8080/"
        },
        "id": "dIIZo1Sb-0B7",
        "outputId": "f8bbfed5-34dc-46ba-b430-0864500877ac"
      },
      "execution_count": null,
      "outputs": [
        {
          "output_type": "stream",
          "name": "stdout",
          "text": [
            "[3, 4, 5, 5, 6, 7]\n"
          ]
        }
      ]
    },
    {
      "cell_type": "markdown",
      "source": [
        "QuickSort"
      ],
      "metadata": {
        "id": "RhdSwM4GRUPu"
      }
    },
    {
      "cell_type": "code",
      "source": [
        "def quickSort(arr,low,high):\n",
        "\n",
        "  if low>=high:\n",
        "    return\n",
        "\n",
        "  s = low\n",
        "  e = high\n",
        "  m = (s+e)//2\n",
        "  pivot = arr[m]\n",
        "\n",
        "  while(s<=e):\n",
        "    while(arr[s]<pivot):\n",
        "      s+=1\n",
        "    while(arr[e]>pivot):\n",
        "      e-=1\n",
        "    if(s<=e):\n",
        "      arr[s],arr[e] = arr[e],arr[s]\n",
        "      s+=1\n",
        "      e-=1\n",
        "  quickSort(arr,low,e)\n",
        "  quickSort(arr,s,high)\n",
        "\n",
        "arr = [4,5,6,2,1,4,7,8]\n",
        "quickSort(arr,0,len(arr)-1)\n",
        "print(arr)"
      ],
      "metadata": {
        "colab": {
          "base_uri": "https://localhost:8080/"
        },
        "id": "GKaFVvtwKdgO",
        "outputId": "54653a7d-a60c-438d-8173-fb626dfe55f2"
      },
      "execution_count": null,
      "outputs": [
        {
          "output_type": "stream",
          "name": "stdout",
          "text": [
            "[1, 2, 4, 4, 5, 6, 7, 8]\n"
          ]
        }
      ]
    },
    {
      "cell_type": "markdown",
      "source": [
        "#28/8/24"
      ],
      "metadata": {
        "id": "o8ochKGCfBE-"
      }
    },
    {
      "cell_type": "markdown",
      "source": [
        "#String"
      ],
      "metadata": {
        "id": "8-Ssw_z7Tg6S"
      }
    },
    {
      "cell_type": "markdown",
      "source": [
        "Question : str : baccad , the new String should be ans : bccd , you need to remove a from that"
      ],
      "metadata": {
        "id": "_KtXKbuCTyJy"
      }
    },
    {
      "cell_type": "markdown",
      "source": [
        "1 :"
      ],
      "metadata": {
        "id": "Q3L4U_oTfYRq"
      }
    },
    {
      "cell_type": "code",
      "source": [
        "\n",
        "def func(String,i):\n",
        "\n",
        "  _str = String\n",
        "\n",
        "  if i>=len(String):\n",
        "    return \"\"\n",
        "\n",
        "  s = _str[i]\n",
        "\n",
        "  if s == \"a\":\n",
        "    return func(String,i+1)\n",
        "  else:\n",
        "    return s+func(String,i+1)\n",
        "\n",
        "String = \"bccad\"\n",
        "func(String,0)\n",
        "\n",
        "\n"
      ],
      "metadata": {
        "colab": {
          "base_uri": "https://localhost:8080/",
          "height": 35
        },
        "id": "sNuoVuUyTbxn",
        "outputId": "7cec8350-8b65-4bec-ab90-1afdd7a2471b"
      },
      "execution_count": null,
      "outputs": [
        {
          "output_type": "execute_result",
          "data": {
            "text/plain": [
              "'bccd'"
            ],
            "application/vnd.google.colaboratory.intrinsic+json": {
              "type": "string"
            }
          },
          "metadata": {},
          "execution_count": 42
        }
      ]
    },
    {
      "cell_type": "markdown",
      "source": [
        "2 : Skip apple word"
      ],
      "metadata": {
        "id": "btLwquQDfclH"
      }
    },
    {
      "cell_type": "code",
      "source": [
        "def func(String,i):\n",
        "\n",
        "  _str = String\n",
        "  _len = len(String)\n",
        "\n",
        "  if i>=len(_str):\n",
        "    return \"\"\n",
        "\n",
        "  element = _str[i]\n",
        "\n",
        "  if i<=(_len-5):\n",
        "    s = _str[i:i+5]\n",
        "    if s == \"apple\":\n",
        "      return func(_str,i+5)\n",
        "    else:\n",
        "      return element+func(_str,i+1)\n",
        "  else:\n",
        "    return element+func(_str,i+1)\n",
        "\n",
        "String = \"bccappleer\"\n",
        "func(String,0)\n"
      ],
      "metadata": {
        "colab": {
          "base_uri": "https://localhost:8080/",
          "height": 35
        },
        "id": "j_THfMSFVP5k",
        "outputId": "d3522210-fc0d-46c8-8fb3-edc8f54e7c52"
      },
      "execution_count": null,
      "outputs": [
        {
          "output_type": "execute_result",
          "data": {
            "text/plain": [
              "'bccer'"
            ],
            "application/vnd.google.colaboratory.intrinsic+json": {
              "type": "string"
            }
          },
          "metadata": {},
          "execution_count": 43
        }
      ]
    },
    {
      "cell_type": "markdown",
      "source": [
        "#30/8"
      ],
      "metadata": {
        "id": "j4TK3Qo2fjqw"
      }
    },
    {
      "cell_type": "markdown",
      "source": [
        "Subsequence : Print all possible subsequence for the String abc"
      ],
      "metadata": {
        "id": "sWqmOpwTfa5x"
      }
    },
    {
      "cell_type": "code",
      "source": [
        "def subsequence(sub,String):\n",
        "\n",
        "  if String == \"\":\n",
        "    print(sub)\n",
        "    return\n",
        "\n",
        "  current = String[0]\n",
        "\n",
        "  subsequence(sub+current,String[1:])\n",
        "  subsequence(sub,String[1:])\n",
        "subsequence(\"\",\"abc\")"
      ],
      "metadata": {
        "colab": {
          "base_uri": "https://localhost:8080/"
        },
        "id": "6BnHAzeefrtf",
        "outputId": "1d5e6325-ce6a-4336-b83b-5bab943f4fab"
      },
      "execution_count": null,
      "outputs": [
        {
          "output_type": "stream",
          "name": "stdout",
          "text": [
            "abc\n",
            "ab\n",
            "ac\n",
            "a\n",
            "bc\n",
            "b\n",
            "c\n",
            "\n"
          ]
        }
      ]
    },
    {
      "cell_type": "markdown",
      "source": [
        "Subsequence : Print all possible subsequence for the String abc including Ascii"
      ],
      "metadata": {
        "id": "ZqjZlnJNuNRf"
      }
    },
    {
      "cell_type": "code",
      "source": [
        "def subsequenceAscii(sub,String):\n",
        "\n",
        "  if String == \"\":\n",
        "    print(sub)\n",
        "    return\n",
        "\n",
        "  current = String[0]\n",
        "\n",
        "  subsequenceAscii(sub+current,String[1:])\n",
        "  subsequenceAscii(sub,String[1:])\n",
        "  subsequenceAscii(sub+str(ord(current)),String[1:])\n",
        "subsequenceAscii(\"\",\"abc\")"
      ],
      "metadata": {
        "id": "DQ54xMQjgfTS",
        "colab": {
          "base_uri": "https://localhost:8080/"
        },
        "outputId": "903ba9c3-8301-4403-e9fc-003527fd8978"
      },
      "execution_count": null,
      "outputs": [
        {
          "output_type": "stream",
          "name": "stdout",
          "text": [
            "abc\n",
            "ab\n",
            "ab99\n",
            "ac\n",
            "a\n",
            "a99\n",
            "a98c\n",
            "a98\n",
            "a9899\n",
            "bc\n",
            "b\n",
            "b99\n",
            "c\n",
            "\n",
            "99\n",
            "98c\n",
            "98\n",
            "9899\n",
            "97bc\n",
            "97b\n",
            "97b99\n",
            "97c\n",
            "97\n",
            "9799\n",
            "9798c\n",
            "9798\n",
            "979899\n"
          ]
        }
      ]
    },
    {
      "cell_type": "code",
      "source": [
        "def iterativeSubsequence(arr):\n",
        "  outer = []\n",
        "  outer.append([])\n",
        "  for num in arr:\n",
        "    outer_size = len(outer)\n",
        "    for j in range(outer_size):\n",
        "      internal = outer[j]+[num]\n",
        "      outer.append(internal)\n",
        "  return outer\n",
        "arr = [1,2,3]\n",
        "iterativeSubsequence(arr)"
      ],
      "metadata": {
        "colab": {
          "base_uri": "https://localhost:8080/"
        },
        "id": "mQ1aVL7NtWSm",
        "outputId": "f5a2bf63-40af-46eb-d356-5adc816a8dba"
      },
      "execution_count": null,
      "outputs": [
        {
          "output_type": "execute_result",
          "data": {
            "text/plain": [
              "[[], [1], [2], [1, 2], [3], [1, 3], [2, 3], [1, 2, 3]]"
            ]
          },
          "metadata": {},
          "execution_count": 53
        }
      ]
    },
    {
      "cell_type": "code",
      "source": [],
      "metadata": {
        "id": "pHki1Wlc0Bfv"
      },
      "execution_count": null,
      "outputs": []
    }
  ]
}