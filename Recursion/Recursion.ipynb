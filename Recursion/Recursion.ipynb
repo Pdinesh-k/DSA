{
  "nbformat": 4,
  "nbformat_minor": 0,
  "metadata": {
    "colab": {
      "provenance": []
    },
    "kernelspec": {
      "name": "python3",
      "display_name": "Python 3"
    },
    "language_info": {
      "name": "python"
    }
  },
  "cells": [
    {
      "cell_type": "code",
      "execution_count": null,
      "metadata": {
        "id": "yD_QcFd9dbE-"
      },
      "outputs": [],
      "source": []
    },
    {
      "cell_type": "code",
      "source": [
        "def func(num):\n",
        "  if(num==5):\n",
        "    return 5\n",
        "  else:\n",
        "    print(num)\n",
        "    return func(num+1)\n",
        "func(1)"
      ],
      "metadata": {
        "colab": {
          "base_uri": "https://localhost:8080/"
        },
        "id": "G5ypXK5wdh3q",
        "outputId": "fd25eb50-4a90-4b7c-f6c3-03d75b039763"
      },
      "execution_count": 1,
      "outputs": [
        {
          "output_type": "stream",
          "name": "stdout",
          "text": [
            "1\n",
            "2\n",
            "3\n",
            "4\n"
          ]
        },
        {
          "output_type": "execute_result",
          "data": {
            "text/plain": [
              "5"
            ]
          },
          "metadata": {},
          "execution_count": 1
        }
      ]
    },
    {
      "cell_type": "markdown",
      "source": [
        "Fibanocci Numbers"
      ],
      "metadata": {
        "id": "N6hGIy5JvUZB"
      }
    },
    {
      "cell_type": "code",
      "source": [
        "\n",
        "def fib(n):\n",
        "  if n<2:\n",
        "    return n\n",
        "  else:\n",
        "    return fib(n-1)+fib(n-2)\n",
        "\n",
        "fib(7)\n"
      ],
      "metadata": {
        "colab": {
          "base_uri": "https://localhost:8080/"
        },
        "id": "5YTuBFqBeEU7",
        "outputId": "bed2c813-3213-4f3f-9bfb-fe13df5b0351"
      },
      "execution_count": 2,
      "outputs": [
        {
          "output_type": "execute_result",
          "data": {
            "text/plain": [
              "13"
            ]
          },
          "metadata": {},
          "execution_count": 2
        }
      ]
    },
    {
      "cell_type": "markdown",
      "source": [
        "BinarySearch"
      ],
      "metadata": {
        "id": "0JMNd4g76nyc"
      }
    },
    {
      "cell_type": "code",
      "source": [
        "def binarySearch(arr,target,start,end):\n",
        "    mid = (start+end)//2\n",
        "    if start>end:\n",
        "      return -1\n",
        "    if(arr[mid]==target):\n",
        "      return mid\n",
        "    elif arr[mid]<target:\n",
        "      return binarySearch(arr,target,mid+1,end)\n",
        "    else:\n",
        "      return binarySearch(arr,target,start,mid-1)\n",
        "arr=[1,2,3,4,5,6,7,10,11]\n",
        "print(binarySearch(arr,100,0,(len(arr)-1)))"
      ],
      "metadata": {
        "colab": {
          "base_uri": "https://localhost:8080/"
        },
        "id": "BK36iaeAvs5l",
        "outputId": "c95aef08-ad24-46e5-fc49-627e4aaac264"
      },
      "execution_count": 3,
      "outputs": [
        {
          "output_type": "stream",
          "name": "stdout",
          "text": [
            "-1\n"
          ]
        }
      ]
    },
    {
      "cell_type": "markdown",
      "source": [
        "Factroial of a number"
      ],
      "metadata": {
        "id": "h6OUYS3C2yjH"
      }
    },
    {
      "cell_type": "code",
      "source": [
        "def factorial(n):\n",
        "  if n==1:\n",
        "    return 1\n",
        "  else:\n",
        "    return n*factorial(n-1)\n",
        "factorial(5)"
      ],
      "metadata": {
        "colab": {
          "base_uri": "https://localhost:8080/"
        },
        "id": "SANzz4xQouVK",
        "outputId": "dac971f8-83d3-4dc0-be34-abf8b9bd949e"
      },
      "execution_count": 4,
      "outputs": [
        {
          "output_type": "execute_result",
          "data": {
            "text/plain": [
              "120"
            ]
          },
          "metadata": {},
          "execution_count": 4
        }
      ]
    },
    {
      "cell_type": "markdown",
      "source": [
        "Sum of Digits"
      ],
      "metadata": {
        "id": "QWOI3rOiJhNa"
      }
    },
    {
      "cell_type": "code",
      "source": [
        "def sum_of_digit(n):\n",
        "  if n==0:\n",
        "    return 0\n",
        "  else:\n",
        "    return n%10+sum_of_digit(n//10)\n",
        "sum_of_digit(1342)"
      ],
      "metadata": {
        "id": "3HtBmmTTpBOn",
        "colab": {
          "base_uri": "https://localhost:8080/"
        },
        "outputId": "4d7d442e-43d5-4c24-b5a3-4215b3abf2ec"
      },
      "execution_count": 7,
      "outputs": [
        {
          "output_type": "execute_result",
          "data": {
            "text/plain": [
              "10"
            ]
          },
          "metadata": {},
          "execution_count": 7
        }
      ]
    },
    {
      "cell_type": "markdown",
      "source": [
        "Product of Digits"
      ],
      "metadata": {
        "id": "dPq7Id1NLGg9"
      }
    },
    {
      "cell_type": "code",
      "source": [
        "def product_of_digits(n):\n",
        "  if n==0:\n",
        "    return 1\n",
        "  return n%10*product_of_digits(n//10)\n",
        "product_of_digits(1342)"
      ],
      "metadata": {
        "colab": {
          "base_uri": "https://localhost:8080/"
        },
        "id": "ulQUt5MeI-ND",
        "outputId": "7667b3b2-2fd3-452e-f343-cd76391e234f"
      },
      "execution_count": 9,
      "outputs": [
        {
          "output_type": "execute_result",
          "data": {
            "text/plain": [
              "24"
            ]
          },
          "metadata": {},
          "execution_count": 9
        }
      ]
    },
    {
      "cell_type": "markdown",
      "source": [
        "Reverse a number"
      ],
      "metadata": {
        "id": "gqxQxQxtTDyF"
      }
    },
    {
      "cell_type": "code",
      "source": [
        "def reverse_num(n):\n",
        "  if n<10:\n",
        "    return n\n",
        "  length = len(str(n))-1\n",
        "  return (n%10)*(10**length)+reverse_num(n//10)\n",
        "reverse_num(6789)"
      ],
      "metadata": {
        "colab": {
          "base_uri": "https://localhost:8080/"
        },
        "id": "U5hajJAcLUBG",
        "outputId": "db1ffe4c-ef1a-4a6c-f78c-7d1c05593e63"
      },
      "execution_count": 25,
      "outputs": [
        {
          "output_type": "execute_result",
          "data": {
            "text/plain": [
              "9876"
            ]
          },
          "metadata": {},
          "execution_count": 25
        }
      ]
    },
    {
      "cell_type": "markdown",
      "source": [
        "Palindrome"
      ],
      "metadata": {
        "id": "r_sTqCADa4-C"
      }
    },
    {
      "cell_type": "code",
      "source": [
        "def palindrome(start,end,word):\n",
        "  if(start>=end):\n",
        "    return True\n",
        "  if word[start]!=word[end]:\n",
        "    return False\n",
        "  return palindrome(start+1,end-1,word)\n",
        "palindrome(0,len(\"madam\")-1,\"madam\")"
      ],
      "metadata": {
        "colab": {
          "base_uri": "https://localhost:8080/"
        },
        "id": "4hmjxeUKOqQt",
        "outputId": "f56985c2-2869-495e-aaec-3e716cce5d45"
      },
      "execution_count": 34,
      "outputs": [
        {
          "output_type": "execute_result",
          "data": {
            "text/plain": [
              "True"
            ]
          },
          "metadata": {},
          "execution_count": 34
        }
      ]
    },
    {
      "cell_type": "markdown",
      "source": [
        "Count number of zeroes in a number"
      ],
      "metadata": {
        "id": "pNu-Zd1KbAnk"
      }
    },
    {
      "cell_type": "code",
      "source": [
        "def count(num):\n",
        "  count_zeroes = 0\n",
        "  if num%10==0:\n",
        "    count_zeroes+=1\n",
        "  if num//10==0:\n",
        "    return count_zeroes\n",
        "  return count_zeroes+count(num//10)\n",
        "count(100203)"
      ],
      "metadata": {
        "colab": {
          "base_uri": "https://localhost:8080/"
        },
        "id": "uJmNFB0gWpiW",
        "outputId": "1c076c8e-8c5d-4b97-ef2e-c4ff7525cd24"
      },
      "execution_count": 44,
      "outputs": [
        {
          "output_type": "execute_result",
          "data": {
            "text/plain": [
              "3"
            ]
          },
          "metadata": {},
          "execution_count": 44
        }
      ]
    },
    {
      "cell_type": "code",
      "source": [],
      "metadata": {
        "id": "efr9BuH1cIC8"
      },
      "execution_count": null,
      "outputs": []
    }
  ]
}